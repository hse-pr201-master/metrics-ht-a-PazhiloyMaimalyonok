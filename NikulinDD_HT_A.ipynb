{
 "cells": [
  {
   "cell_type": "code",
   "execution_count": 183,
   "metadata": {},
   "outputs": [],
   "source": [
    "import pandas as pd\n",
    "import matplotlib.pyplot as plt\n",
    "import numpy as np"
   ]
  },
  {
   "cell_type": "code",
   "execution_count": 184,
   "metadata": {},
   "outputs": [
    {
     "data": {
      "text/html": [
       "<div>\n",
       "<style scoped>\n",
       "    .dataframe tbody tr th:only-of-type {\n",
       "        vertical-align: middle;\n",
       "    }\n",
       "\n",
       "    .dataframe tbody tr th {\n",
       "        vertical-align: top;\n",
       "    }\n",
       "\n",
       "    .dataframe thead th {\n",
       "        text-align: right;\n",
       "    }\n",
       "</style>\n",
       "<table border=\"1\" class=\"dataframe\">\n",
       "  <thead>\n",
       "    <tr style=\"text-align: right;\">\n",
       "      <th></th>\n",
       "      <th>X</th>\n",
       "      <th>Y</th>\n",
       "      <th>month</th>\n",
       "      <th>day</th>\n",
       "      <th>FFMC</th>\n",
       "      <th>DMC</th>\n",
       "      <th>DC</th>\n",
       "      <th>ISI</th>\n",
       "      <th>temp</th>\n",
       "      <th>RH</th>\n",
       "      <th>wind</th>\n",
       "      <th>rain</th>\n",
       "      <th>area</th>\n",
       "    </tr>\n",
       "  </thead>\n",
       "  <tbody>\n",
       "    <tr>\n",
       "      <th>138</th>\n",
       "      <td>9</td>\n",
       "      <td>9</td>\n",
       "      <td>jul</td>\n",
       "      <td>tue</td>\n",
       "      <td>85.8</td>\n",
       "      <td>48.3</td>\n",
       "      <td>313.4</td>\n",
       "      <td>3.9</td>\n",
       "      <td>18.0</td>\n",
       "      <td>42</td>\n",
       "      <td>2.7</td>\n",
       "      <td>0.0</td>\n",
       "      <td>0.36</td>\n",
       "    </tr>\n",
       "    <tr>\n",
       "      <th>139</th>\n",
       "      <td>1</td>\n",
       "      <td>4</td>\n",
       "      <td>sep</td>\n",
       "      <td>tue</td>\n",
       "      <td>91.0</td>\n",
       "      <td>129.5</td>\n",
       "      <td>692.6</td>\n",
       "      <td>7.0</td>\n",
       "      <td>21.7</td>\n",
       "      <td>38</td>\n",
       "      <td>2.2</td>\n",
       "      <td>0.0</td>\n",
       "      <td>0.43</td>\n",
       "    </tr>\n",
       "    <tr>\n",
       "      <th>140</th>\n",
       "      <td>2</td>\n",
       "      <td>5</td>\n",
       "      <td>sep</td>\n",
       "      <td>mon</td>\n",
       "      <td>90.9</td>\n",
       "      <td>126.5</td>\n",
       "      <td>686.5</td>\n",
       "      <td>7.0</td>\n",
       "      <td>21.9</td>\n",
       "      <td>39</td>\n",
       "      <td>1.8</td>\n",
       "      <td>0.0</td>\n",
       "      <td>0.47</td>\n",
       "    </tr>\n",
       "    <tr>\n",
       "      <th>141</th>\n",
       "      <td>1</td>\n",
       "      <td>2</td>\n",
       "      <td>aug</td>\n",
       "      <td>wed</td>\n",
       "      <td>95.5</td>\n",
       "      <td>99.9</td>\n",
       "      <td>513.3</td>\n",
       "      <td>13.2</td>\n",
       "      <td>23.3</td>\n",
       "      <td>31</td>\n",
       "      <td>4.5</td>\n",
       "      <td>0.0</td>\n",
       "      <td>0.55</td>\n",
       "    </tr>\n",
       "    <tr>\n",
       "      <th>142</th>\n",
       "      <td>8</td>\n",
       "      <td>6</td>\n",
       "      <td>aug</td>\n",
       "      <td>fri</td>\n",
       "      <td>90.1</td>\n",
       "      <td>108.0</td>\n",
       "      <td>529.8</td>\n",
       "      <td>12.5</td>\n",
       "      <td>21.2</td>\n",
       "      <td>51</td>\n",
       "      <td>8.9</td>\n",
       "      <td>0.0</td>\n",
       "      <td>0.61</td>\n",
       "    </tr>\n",
       "    <tr>\n",
       "      <th>...</th>\n",
       "      <td>...</td>\n",
       "      <td>...</td>\n",
       "      <td>...</td>\n",
       "      <td>...</td>\n",
       "      <td>...</td>\n",
       "      <td>...</td>\n",
       "      <td>...</td>\n",
       "      <td>...</td>\n",
       "      <td>...</td>\n",
       "      <td>...</td>\n",
       "      <td>...</td>\n",
       "      <td>...</td>\n",
       "      <td>...</td>\n",
       "    </tr>\n",
       "    <tr>\n",
       "      <th>509</th>\n",
       "      <td>5</td>\n",
       "      <td>4</td>\n",
       "      <td>aug</td>\n",
       "      <td>fri</td>\n",
       "      <td>91.0</td>\n",
       "      <td>166.9</td>\n",
       "      <td>752.6</td>\n",
       "      <td>7.1</td>\n",
       "      <td>21.1</td>\n",
       "      <td>71</td>\n",
       "      <td>7.6</td>\n",
       "      <td>1.4</td>\n",
       "      <td>2.17</td>\n",
       "    </tr>\n",
       "    <tr>\n",
       "      <th>510</th>\n",
       "      <td>6</td>\n",
       "      <td>5</td>\n",
       "      <td>aug</td>\n",
       "      <td>fri</td>\n",
       "      <td>91.0</td>\n",
       "      <td>166.9</td>\n",
       "      <td>752.6</td>\n",
       "      <td>7.1</td>\n",
       "      <td>18.2</td>\n",
       "      <td>62</td>\n",
       "      <td>5.4</td>\n",
       "      <td>0.0</td>\n",
       "      <td>0.43</td>\n",
       "    </tr>\n",
       "    <tr>\n",
       "      <th>512</th>\n",
       "      <td>4</td>\n",
       "      <td>3</td>\n",
       "      <td>aug</td>\n",
       "      <td>sun</td>\n",
       "      <td>81.6</td>\n",
       "      <td>56.7</td>\n",
       "      <td>665.6</td>\n",
       "      <td>1.9</td>\n",
       "      <td>27.8</td>\n",
       "      <td>32</td>\n",
       "      <td>2.7</td>\n",
       "      <td>0.0</td>\n",
       "      <td>6.44</td>\n",
       "    </tr>\n",
       "    <tr>\n",
       "      <th>513</th>\n",
       "      <td>2</td>\n",
       "      <td>4</td>\n",
       "      <td>aug</td>\n",
       "      <td>sun</td>\n",
       "      <td>81.6</td>\n",
       "      <td>56.7</td>\n",
       "      <td>665.6</td>\n",
       "      <td>1.9</td>\n",
       "      <td>21.9</td>\n",
       "      <td>71</td>\n",
       "      <td>5.8</td>\n",
       "      <td>0.0</td>\n",
       "      <td>54.29</td>\n",
       "    </tr>\n",
       "    <tr>\n",
       "      <th>514</th>\n",
       "      <td>7</td>\n",
       "      <td>4</td>\n",
       "      <td>aug</td>\n",
       "      <td>sun</td>\n",
       "      <td>81.6</td>\n",
       "      <td>56.7</td>\n",
       "      <td>665.6</td>\n",
       "      <td>1.9</td>\n",
       "      <td>21.2</td>\n",
       "      <td>70</td>\n",
       "      <td>6.7</td>\n",
       "      <td>0.0</td>\n",
       "      <td>11.16</td>\n",
       "    </tr>\n",
       "  </tbody>\n",
       "</table>\n",
       "<p>270 rows × 13 columns</p>\n",
       "</div>"
      ],
      "text/plain": [
       "     X  Y month  day  FFMC    DMC     DC   ISI  temp  RH  wind  rain   area\n",
       "138  9  9   jul  tue  85.8   48.3  313.4   3.9  18.0  42   2.7   0.0   0.36\n",
       "139  1  4   sep  tue  91.0  129.5  692.6   7.0  21.7  38   2.2   0.0   0.43\n",
       "140  2  5   sep  mon  90.9  126.5  686.5   7.0  21.9  39   1.8   0.0   0.47\n",
       "141  1  2   aug  wed  95.5   99.9  513.3  13.2  23.3  31   4.5   0.0   0.55\n",
       "142  8  6   aug  fri  90.1  108.0  529.8  12.5  21.2  51   8.9   0.0   0.61\n",
       "..  .. ..   ...  ...   ...    ...    ...   ...   ...  ..   ...   ...    ...\n",
       "509  5  4   aug  fri  91.0  166.9  752.6   7.1  21.1  71   7.6   1.4   2.17\n",
       "510  6  5   aug  fri  91.0  166.9  752.6   7.1  18.2  62   5.4   0.0   0.43\n",
       "512  4  3   aug  sun  81.6   56.7  665.6   1.9  27.8  32   2.7   0.0   6.44\n",
       "513  2  4   aug  sun  81.6   56.7  665.6   1.9  21.9  71   5.8   0.0  54.29\n",
       "514  7  4   aug  sun  81.6   56.7  665.6   1.9  21.2  70   6.7   0.0  11.16\n",
       "\n",
       "[270 rows x 13 columns]"
      ]
     },
     "execution_count": 184,
     "metadata": {},
     "output_type": "execute_result"
    }
   ],
   "source": [
    "#Убираем 0 \n",
    "forest = pd.read_csv('forestfires.csv')\n",
    "forest = forest[forest['area']>0]\n",
    "forest"
   ]
  },
  {
   "cell_type": "code",
   "execution_count": 185,
   "metadata": {},
   "outputs": [
    {
     "data": {
      "text/html": [
       "<div>\n",
       "<style scoped>\n",
       "    .dataframe tbody tr th:only-of-type {\n",
       "        vertical-align: middle;\n",
       "    }\n",
       "\n",
       "    .dataframe tbody tr th {\n",
       "        vertical-align: top;\n",
       "    }\n",
       "\n",
       "    .dataframe thead th {\n",
       "        text-align: right;\n",
       "    }\n",
       "</style>\n",
       "<table border=\"1\" class=\"dataframe\">\n",
       "  <thead>\n",
       "    <tr style=\"text-align: right;\">\n",
       "      <th></th>\n",
       "      <th>X</th>\n",
       "      <th>Y</th>\n",
       "      <th>month</th>\n",
       "      <th>day</th>\n",
       "      <th>FFMC</th>\n",
       "      <th>DMC</th>\n",
       "      <th>DC</th>\n",
       "      <th>ISI</th>\n",
       "      <th>temp</th>\n",
       "      <th>RH</th>\n",
       "      <th>...</th>\n",
       "      <th>apr</th>\n",
       "      <th>aug</th>\n",
       "      <th>dec</th>\n",
       "      <th>feb</th>\n",
       "      <th>jul</th>\n",
       "      <th>jun</th>\n",
       "      <th>mar</th>\n",
       "      <th>may</th>\n",
       "      <th>oct</th>\n",
       "      <th>sep</th>\n",
       "    </tr>\n",
       "  </thead>\n",
       "  <tbody>\n",
       "    <tr>\n",
       "      <th>138</th>\n",
       "      <td>9</td>\n",
       "      <td>9</td>\n",
       "      <td>jul</td>\n",
       "      <td>tue</td>\n",
       "      <td>85.8</td>\n",
       "      <td>48.3</td>\n",
       "      <td>313.4</td>\n",
       "      <td>3.9</td>\n",
       "      <td>18.0</td>\n",
       "      <td>42</td>\n",
       "      <td>...</td>\n",
       "      <td>0</td>\n",
       "      <td>0</td>\n",
       "      <td>0</td>\n",
       "      <td>0</td>\n",
       "      <td>1</td>\n",
       "      <td>0</td>\n",
       "      <td>0</td>\n",
       "      <td>0</td>\n",
       "      <td>0</td>\n",
       "      <td>0</td>\n",
       "    </tr>\n",
       "    <tr>\n",
       "      <th>139</th>\n",
       "      <td>1</td>\n",
       "      <td>4</td>\n",
       "      <td>sep</td>\n",
       "      <td>tue</td>\n",
       "      <td>91.0</td>\n",
       "      <td>129.5</td>\n",
       "      <td>692.6</td>\n",
       "      <td>7.0</td>\n",
       "      <td>21.7</td>\n",
       "      <td>38</td>\n",
       "      <td>...</td>\n",
       "      <td>0</td>\n",
       "      <td>0</td>\n",
       "      <td>0</td>\n",
       "      <td>0</td>\n",
       "      <td>0</td>\n",
       "      <td>0</td>\n",
       "      <td>0</td>\n",
       "      <td>0</td>\n",
       "      <td>0</td>\n",
       "      <td>1</td>\n",
       "    </tr>\n",
       "    <tr>\n",
       "      <th>140</th>\n",
       "      <td>2</td>\n",
       "      <td>5</td>\n",
       "      <td>sep</td>\n",
       "      <td>mon</td>\n",
       "      <td>90.9</td>\n",
       "      <td>126.5</td>\n",
       "      <td>686.5</td>\n",
       "      <td>7.0</td>\n",
       "      <td>21.9</td>\n",
       "      <td>39</td>\n",
       "      <td>...</td>\n",
       "      <td>0</td>\n",
       "      <td>0</td>\n",
       "      <td>0</td>\n",
       "      <td>0</td>\n",
       "      <td>0</td>\n",
       "      <td>0</td>\n",
       "      <td>0</td>\n",
       "      <td>0</td>\n",
       "      <td>0</td>\n",
       "      <td>1</td>\n",
       "    </tr>\n",
       "    <tr>\n",
       "      <th>141</th>\n",
       "      <td>1</td>\n",
       "      <td>2</td>\n",
       "      <td>aug</td>\n",
       "      <td>wed</td>\n",
       "      <td>95.5</td>\n",
       "      <td>99.9</td>\n",
       "      <td>513.3</td>\n",
       "      <td>13.2</td>\n",
       "      <td>23.3</td>\n",
       "      <td>31</td>\n",
       "      <td>...</td>\n",
       "      <td>0</td>\n",
       "      <td>1</td>\n",
       "      <td>0</td>\n",
       "      <td>0</td>\n",
       "      <td>0</td>\n",
       "      <td>0</td>\n",
       "      <td>0</td>\n",
       "      <td>0</td>\n",
       "      <td>0</td>\n",
       "      <td>0</td>\n",
       "    </tr>\n",
       "    <tr>\n",
       "      <th>142</th>\n",
       "      <td>8</td>\n",
       "      <td>6</td>\n",
       "      <td>aug</td>\n",
       "      <td>fri</td>\n",
       "      <td>90.1</td>\n",
       "      <td>108.0</td>\n",
       "      <td>529.8</td>\n",
       "      <td>12.5</td>\n",
       "      <td>21.2</td>\n",
       "      <td>51</td>\n",
       "      <td>...</td>\n",
       "      <td>0</td>\n",
       "      <td>1</td>\n",
       "      <td>0</td>\n",
       "      <td>0</td>\n",
       "      <td>0</td>\n",
       "      <td>0</td>\n",
       "      <td>0</td>\n",
       "      <td>0</td>\n",
       "      <td>0</td>\n",
       "      <td>0</td>\n",
       "    </tr>\n",
       "  </tbody>\n",
       "</table>\n",
       "<p>5 rows × 23 columns</p>\n",
       "</div>"
      ],
      "text/plain": [
       "     X  Y month  day  FFMC    DMC     DC   ISI  temp  RH  ...  apr  aug  dec  \\\n",
       "138  9  9   jul  tue  85.8   48.3  313.4   3.9  18.0  42  ...    0    0    0   \n",
       "139  1  4   sep  tue  91.0  129.5  692.6   7.0  21.7  38  ...    0    0    0   \n",
       "140  2  5   sep  mon  90.9  126.5  686.5   7.0  21.9  39  ...    0    0    0   \n",
       "141  1  2   aug  wed  95.5   99.9  513.3  13.2  23.3  31  ...    0    1    0   \n",
       "142  8  6   aug  fri  90.1  108.0  529.8  12.5  21.2  51  ...    0    1    0   \n",
       "\n",
       "     feb  jul  jun  mar  may  oct  sep  \n",
       "138    0    1    0    0    0    0    0  \n",
       "139    0    0    0    0    0    0    1  \n",
       "140    0    0    0    0    0    0    1  \n",
       "141    0    0    0    0    0    0    0  \n",
       "142    0    0    0    0    0    0    0  \n",
       "\n",
       "[5 rows x 23 columns]"
      ]
     },
     "execution_count": 185,
     "metadata": {},
     "output_type": "execute_result"
    }
   ],
   "source": [
    "#создаем дамми для месяцев\n",
    "forest = forest.join(pd.get_dummies(forest['month']))\n",
    "forest.head()"
   ]
  },
  {
   "cell_type": "code",
   "execution_count": 186,
   "metadata": {},
   "outputs": [],
   "source": [
    "#forest.drop(columns = 'month', inplace = True)\n",
    "#Создаем переменную для выходных, так как человеческий фактор часто является причиной пожаров\n",
    "forest['weekend'] = [1 if x in ['sat', 'sun'] else 0  for x in forest.day]"
   ]
  },
  {
   "cell_type": "code",
   "execution_count": 187,
   "metadata": {},
   "outputs": [
    {
     "data": {
      "text/plain": [
       "Text(0, 0.5, 'Частота')"
      ]
     },
     "execution_count": 187,
     "metadata": {},
     "output_type": "execute_result"
    },
    {
     "data": {
      "image/png": "[encoded data removed]",
      "text/plain": [
       "<Figure size 432x288 with 1 Axes>"
      ]
     },
     "metadata": {
      "needs_background": "light"
     },
     "output_type": "display_data"
    }
   ],
   "source": [
    "plt.hist(forest['area']);\n",
    "plt.title('Гистограма площади')\n",
    "plt.xlabel('Значение площади')\n",
    "plt.ylabel(\"Частота\")"
   ]
  },
  {
   "cell_type": "markdown",
   "metadata": {},
   "source": [
    "Выглядит ненорально, стоит прологарифмировать"
   ]
  },
  {
   "cell_type": "code",
   "execution_count": 188,
   "metadata": {},
   "outputs": [
    {
     "data": {
      "text/plain": [
       "Text(0, 0.5, 'Частота')"
      ]
     },
     "execution_count": 188,
     "metadata": {},
     "output_type": "execute_result"
    },
    {
     "data": {
      "image/png": "[encoded data removed]",
      "text/plain": [
       "<Figure size 432x288 with 1 Axes>"
      ]
     },
     "metadata": {
      "needs_background": "light"
     },
     "output_type": "display_data"
    }
   ],
   "source": [
    "plt.hist(np.log(forest['area']));\n",
    "plt.title('Гистограма площади')\n",
    "plt.xlabel('Значение Логарифмированной площади')\n",
    "plt.ylabel(\"Частота\")"
   ]
  },
  {
   "cell_type": "markdown",
   "metadata": {},
   "source": [
    "Теперь намного лучше!"
   ]
  },
  {
   "cell_type": "code",
   "execution_count": 189,
   "metadata": {},
   "outputs": [
    {
     "data": {
      "text/html": [
       "<div>\n",
       "<style scoped>\n",
       "    .dataframe tbody tr th:only-of-type {\n",
       "        vertical-align: middle;\n",
       "    }\n",
       "\n",
       "    .dataframe tbody tr th {\n",
       "        vertical-align: top;\n",
       "    }\n",
       "\n",
       "    .dataframe thead th {\n",
       "        text-align: right;\n",
       "    }\n",
       "</style>\n",
       "<table border=\"1\" class=\"dataframe\">\n",
       "  <thead>\n",
       "    <tr style=\"text-align: right;\">\n",
       "      <th></th>\n",
       "      <th>FFMC</th>\n",
       "      <th>DMC</th>\n",
       "      <th>DC</th>\n",
       "      <th>ISI</th>\n",
       "    </tr>\n",
       "  </thead>\n",
       "  <tbody>\n",
       "    <tr>\n",
       "      <th>FFMC</th>\n",
       "      <td>1.000000</td>\n",
       "      <td>0.480250</td>\n",
       "      <td>0.407638</td>\n",
       "      <td>0.704170</td>\n",
       "    </tr>\n",
       "    <tr>\n",
       "      <th>DMC</th>\n",
       "      <td>0.480250</td>\n",
       "      <td>1.000000</td>\n",
       "      <td>0.668926</td>\n",
       "      <td>0.329656</td>\n",
       "    </tr>\n",
       "    <tr>\n",
       "      <th>DC</th>\n",
       "      <td>0.407638</td>\n",
       "      <td>0.668926</td>\n",
       "      <td>1.000000</td>\n",
       "      <td>0.256826</td>\n",
       "    </tr>\n",
       "    <tr>\n",
       "      <th>ISI</th>\n",
       "      <td>0.704170</td>\n",
       "      <td>0.329656</td>\n",
       "      <td>0.256826</td>\n",
       "      <td>1.000000</td>\n",
       "    </tr>\n",
       "  </tbody>\n",
       "</table>\n",
       "</div>"
      ],
      "text/plain": [
       "          FFMC       DMC        DC       ISI\n",
       "FFMC  1.000000  0.480250  0.407638  0.704170\n",
       "DMC   0.480250  1.000000  0.668926  0.329656\n",
       "DC    0.407638  0.668926  1.000000  0.256826\n",
       "ISI   0.704170  0.329656  0.256826  1.000000"
      ]
     },
     "execution_count": 189,
     "metadata": {},
     "output_type": "execute_result"
    }
   ],
   "source": [
    "forest[['FFMC', 'DMC', 'DC', 'ISI']].corr()"
   ]
  },
  {
   "cell_type": "markdown",
   "metadata": {},
   "source": [
    "Какие-то трудные и непонятные факторы, отвечающие за количество влаги в деревьях. Бахнем на них PCA, чтобы не тащить похожие факторы дальше, тем более у них зачастую положительная корреляция."
   ]
  },
  {
   "cell_type": "code",
   "execution_count": 190,
   "metadata": {},
   "outputs": [],
   "source": [
    "from sklearn.decomposition import IncrementalPCA as PCA\n",
    "pca = PCA(n_components = 1)\n",
    "for_fit = forest[['FFMC', 'DMC', 'DC', 'ISI']]\n",
    "for_fit = pca.fit_transform(for_fit)\n"
   ]
  },
  {
   "cell_type": "code",
   "execution_count": 191,
   "metadata": {},
   "outputs": [],
   "source": [
    "forest['PCA_4indicators'] = for_fit"
   ]
  },
  {
   "cell_type": "code",
   "execution_count": 192,
   "metadata": {},
   "outputs": [],
   "source": [
    "forest.drop(['FFMC','DMC','DC', 'ISI'], axis= 1, inplace = True)"
   ]
  },
  {
   "cell_type": "markdown",
   "metadata": {},
   "source": [
    "# 2"
   ]
  },
  {
   "cell_type": "markdown",
   "metadata": {},
   "source": [
    "Давайте посмотрим, как можно использовать координаты"
   ]
  },
  {
   "cell_type": "code",
   "execution_count": 193,
   "metadata": {},
   "outputs": [],
   "source": [
    "xx=[]\n",
    "yy=[]\n",
    "for x in np.unique(forest['X'].values):\n",
    "    for y in np.unique(forest['Y'].values):\n",
    "        xx.append(x)\n",
    "        yy.append(y)"
   ]
  },
  {
   "cell_type": "code",
   "execution_count": 194,
   "metadata": {},
   "outputs": [],
   "source": [
    "d = {'x':xx, 'y':yy}\n",
    "for_scatter = pd.DataFrame(data= d)\n"
   ]
  },
  {
   "cell_type": "code",
   "execution_count": 195,
   "metadata": {},
   "outputs": [],
   "source": [
    "area_scat = []\n",
    "for _, row in for_scatter.iterrows():\n",
    "    area_scat.append(forest.loc[(forest.X== row[0]) & (forest.Y==row[1])]['area'].mean())\n"
   ]
  },
  {
   "cell_type": "code",
   "execution_count": 196,
   "metadata": {},
   "outputs": [],
   "source": [
    "for_scatter['area'] = area_scat\n",
    "for_scatter.dropna(inplace = True)"
   ]
  },
  {
   "cell_type": "code",
   "execution_count": 197,
   "metadata": {},
   "outputs": [
    {
     "data": {
      "text/plain": [
       "Text(0, 0.5, 'Координата по У')"
      ]
     },
     "execution_count": 197,
     "metadata": {},
     "output_type": "execute_result"
    },
    {
     "data": {
      "image/png": "[encoded data removed]",
      "text/plain": [
       "<Figure size 432x288 with 1 Axes>"
      ]
     },
     "metadata": {
      "needs_background": "light"
     },
     "output_type": "display_data"
    }
   ],
   "source": [
    "plt.scatter(for_scatter['x'], for_scatter['y'] , s = for_scatter['area'].values*10)\n",
    "plt.title('Размер средней площади пожара в зависимости от местоположения (Чем больше кружок, тем больше средяя площадь)')\n",
    "plt.xlabel('Координата по Х')\n",
    "plt.ylabel('Координата по У')"
   ]
  },
  {
   "cell_type": "markdown",
   "metadata": {},
   "source": [
    "Видно, что зависимость есть и она не линейная. Тогда создадим порядковую переменную (0, 1, 2), которая присуждается точкам  в зависимости от среднего размера сгоревшей площади на координатах. "
   ]
  },
  {
   "cell_type": "code",
   "execution_count": 198,
   "metadata": {},
   "outputs": [],
   "source": [
    "d = {}\n",
    "for _,row in for_scatter.iterrows():\n",
    "    d[(int(row[0]), int(row[1]))] = row[2]\n"
   ]
  },
  {
   "cell_type": "code",
   "execution_count": 199,
   "metadata": {},
   "outputs": [],
   "source": [
    "categorical_for_location = []\n",
    "for _, row in forest[['X', 'Y', 'area']].iterrows():\n",
    "    if d[(row[0], row[1])] <15:\n",
    "        categorical_for_location.append(0)\n",
    "    elif d[(row[0], row[1])] <100:\n",
    "        categorical_for_location.append(1)\n",
    "    else:\n",
    "        categorical_for_location.append(2)"
   ]
  },
  {
   "cell_type": "code",
   "execution_count": 200,
   "metadata": {},
   "outputs": [
    {
     "data": {
      "text/html": [
       "<div>\n",
       "<style scoped>\n",
       "    .dataframe tbody tr th:only-of-type {\n",
       "        vertical-align: middle;\n",
       "    }\n",
       "\n",
       "    .dataframe tbody tr th {\n",
       "        vertical-align: top;\n",
       "    }\n",
       "\n",
       "    .dataframe thead th {\n",
       "        text-align: right;\n",
       "    }\n",
       "</style>\n",
       "<table border=\"1\" class=\"dataframe\">\n",
       "  <thead>\n",
       "    <tr style=\"text-align: right;\">\n",
       "      <th></th>\n",
       "      <th>X</th>\n",
       "      <th>Y</th>\n",
       "      <th>month</th>\n",
       "      <th>day</th>\n",
       "      <th>temp</th>\n",
       "      <th>RH</th>\n",
       "      <th>wind</th>\n",
       "      <th>rain</th>\n",
       "      <th>area</th>\n",
       "      <th>apr</th>\n",
       "      <th>...</th>\n",
       "      <th>feb</th>\n",
       "      <th>jul</th>\n",
       "      <th>jun</th>\n",
       "      <th>mar</th>\n",
       "      <th>may</th>\n",
       "      <th>oct</th>\n",
       "      <th>sep</th>\n",
       "      <th>weekend</th>\n",
       "      <th>PCA_4indicators</th>\n",
       "      <th>categorical_for_location</th>\n",
       "    </tr>\n",
       "  </thead>\n",
       "  <tbody>\n",
       "    <tr>\n",
       "      <th>138</th>\n",
       "      <td>9</td>\n",
       "      <td>9</td>\n",
       "      <td>jul</td>\n",
       "      <td>tue</td>\n",
       "      <td>18.0</td>\n",
       "      <td>42</td>\n",
       "      <td>2.7</td>\n",
       "      <td>0.0</td>\n",
       "      <td>0.36</td>\n",
       "      <td>0</td>\n",
       "      <td>...</td>\n",
       "      <td>0</td>\n",
       "      <td>1</td>\n",
       "      <td>0</td>\n",
       "      <td>0</td>\n",
       "      <td>0</td>\n",
       "      <td>0</td>\n",
       "      <td>0</td>\n",
       "      <td>0</td>\n",
       "      <td>-265.320971</td>\n",
       "      <td>0</td>\n",
       "    </tr>\n",
       "    <tr>\n",
       "      <th>139</th>\n",
       "      <td>1</td>\n",
       "      <td>4</td>\n",
       "      <td>sep</td>\n",
       "      <td>tue</td>\n",
       "      <td>21.7</td>\n",
       "      <td>38</td>\n",
       "      <td>2.2</td>\n",
       "      <td>0.0</td>\n",
       "      <td>0.43</td>\n",
       "      <td>0</td>\n",
       "      <td>...</td>\n",
       "      <td>0</td>\n",
       "      <td>0</td>\n",
       "      <td>0</td>\n",
       "      <td>0</td>\n",
       "      <td>0</td>\n",
       "      <td>0</td>\n",
       "      <td>1</td>\n",
       "      <td>0</td>\n",
       "      <td>122.370404</td>\n",
       "      <td>1</td>\n",
       "    </tr>\n",
       "    <tr>\n",
       "      <th>140</th>\n",
       "      <td>2</td>\n",
       "      <td>5</td>\n",
       "      <td>sep</td>\n",
       "      <td>mon</td>\n",
       "      <td>21.9</td>\n",
       "      <td>39</td>\n",
       "      <td>1.8</td>\n",
       "      <td>0.0</td>\n",
       "      <td>0.47</td>\n",
       "      <td>0</td>\n",
       "      <td>...</td>\n",
       "      <td>0</td>\n",
       "      <td>0</td>\n",
       "      <td>0</td>\n",
       "      <td>0</td>\n",
       "      <td>0</td>\n",
       "      <td>0</td>\n",
       "      <td>1</td>\n",
       "      <td>0</td>\n",
       "      <td>115.824104</td>\n",
       "      <td>0</td>\n",
       "    </tr>\n",
       "    <tr>\n",
       "      <th>141</th>\n",
       "      <td>1</td>\n",
       "      <td>2</td>\n",
       "      <td>aug</td>\n",
       "      <td>wed</td>\n",
       "      <td>23.3</td>\n",
       "      <td>31</td>\n",
       "      <td>4.5</td>\n",
       "      <td>0.0</td>\n",
       "      <td>0.55</td>\n",
       "      <td>0</td>\n",
       "      <td>...</td>\n",
       "      <td>0</td>\n",
       "      <td>0</td>\n",
       "      <td>0</td>\n",
       "      <td>0</td>\n",
       "      <td>0</td>\n",
       "      <td>0</td>\n",
       "      <td>0</td>\n",
       "      <td>0</td>\n",
       "      <td>-59.254211</td>\n",
       "      <td>1</td>\n",
       "    </tr>\n",
       "    <tr>\n",
       "      <th>142</th>\n",
       "      <td>8</td>\n",
       "      <td>6</td>\n",
       "      <td>aug</td>\n",
       "      <td>fri</td>\n",
       "      <td>21.2</td>\n",
       "      <td>51</td>\n",
       "      <td>8.9</td>\n",
       "      <td>0.0</td>\n",
       "      <td>0.61</td>\n",
       "      <td>0</td>\n",
       "      <td>...</td>\n",
       "      <td>0</td>\n",
       "      <td>0</td>\n",
       "      <td>0</td>\n",
       "      <td>0</td>\n",
       "      <td>0</td>\n",
       "      <td>0</td>\n",
       "      <td>0</td>\n",
       "      <td>0</td>\n",
       "      <td>-41.590414</td>\n",
       "      <td>1</td>\n",
       "    </tr>\n",
       "    <tr>\n",
       "      <th>...</th>\n",
       "      <td>...</td>\n",
       "      <td>...</td>\n",
       "      <td>...</td>\n",
       "      <td>...</td>\n",
       "      <td>...</td>\n",
       "      <td>...</td>\n",
       "      <td>...</td>\n",
       "      <td>...</td>\n",
       "      <td>...</td>\n",
       "      <td>...</td>\n",
       "      <td>...</td>\n",
       "      <td>...</td>\n",
       "      <td>...</td>\n",
       "      <td>...</td>\n",
       "      <td>...</td>\n",
       "      <td>...</td>\n",
       "      <td>...</td>\n",
       "      <td>...</td>\n",
       "      <td>...</td>\n",
       "      <td>...</td>\n",
       "      <td>...</td>\n",
       "    </tr>\n",
       "    <tr>\n",
       "      <th>509</th>\n",
       "      <td>5</td>\n",
       "      <td>4</td>\n",
       "      <td>aug</td>\n",
       "      <td>fri</td>\n",
       "      <td>21.1</td>\n",
       "      <td>71</td>\n",
       "      <td>7.6</td>\n",
       "      <td>1.4</td>\n",
       "      <td>2.17</td>\n",
       "      <td>0</td>\n",
       "      <td>...</td>\n",
       "      <td>0</td>\n",
       "      <td>0</td>\n",
       "      <td>0</td>\n",
       "      <td>0</td>\n",
       "      <td>0</td>\n",
       "      <td>0</td>\n",
       "      <td>0</td>\n",
       "      <td>0</td>\n",
       "      <td>188.197782</td>\n",
       "      <td>0</td>\n",
       "    </tr>\n",
       "    <tr>\n",
       "      <th>510</th>\n",
       "      <td>6</td>\n",
       "      <td>5</td>\n",
       "      <td>aug</td>\n",
       "      <td>fri</td>\n",
       "      <td>18.2</td>\n",
       "      <td>62</td>\n",
       "      <td>5.4</td>\n",
       "      <td>0.0</td>\n",
       "      <td>0.43</td>\n",
       "      <td>0</td>\n",
       "      <td>...</td>\n",
       "      <td>0</td>\n",
       "      <td>0</td>\n",
       "      <td>0</td>\n",
       "      <td>0</td>\n",
       "      <td>0</td>\n",
       "      <td>0</td>\n",
       "      <td>0</td>\n",
       "      <td>0</td>\n",
       "      <td>188.197782</td>\n",
       "      <td>1</td>\n",
       "    </tr>\n",
       "    <tr>\n",
       "      <th>512</th>\n",
       "      <td>4</td>\n",
       "      <td>3</td>\n",
       "      <td>aug</td>\n",
       "      <td>sun</td>\n",
       "      <td>27.8</td>\n",
       "      <td>32</td>\n",
       "      <td>2.7</td>\n",
       "      <td>0.0</td>\n",
       "      <td>6.44</td>\n",
       "      <td>0</td>\n",
       "      <td>...</td>\n",
       "      <td>0</td>\n",
       "      <td>0</td>\n",
       "      <td>0</td>\n",
       "      <td>0</td>\n",
       "      <td>0</td>\n",
       "      <td>0</td>\n",
       "      <td>0</td>\n",
       "      <td>1</td>\n",
       "      <td>82.424317</td>\n",
       "      <td>0</td>\n",
       "    </tr>\n",
       "    <tr>\n",
       "      <th>513</th>\n",
       "      <td>2</td>\n",
       "      <td>4</td>\n",
       "      <td>aug</td>\n",
       "      <td>sun</td>\n",
       "      <td>21.9</td>\n",
       "      <td>71</td>\n",
       "      <td>5.8</td>\n",
       "      <td>0.0</td>\n",
       "      <td>54.29</td>\n",
       "      <td>0</td>\n",
       "      <td>...</td>\n",
       "      <td>0</td>\n",
       "      <td>0</td>\n",
       "      <td>0</td>\n",
       "      <td>0</td>\n",
       "      <td>0</td>\n",
       "      <td>0</td>\n",
       "      <td>0</td>\n",
       "      <td>1</td>\n",
       "      <td>82.424317</td>\n",
       "      <td>0</td>\n",
       "    </tr>\n",
       "    <tr>\n",
       "      <th>514</th>\n",
       "      <td>7</td>\n",
       "      <td>4</td>\n",
       "      <td>aug</td>\n",
       "      <td>sun</td>\n",
       "      <td>21.2</td>\n",
       "      <td>70</td>\n",
       "      <td>6.7</td>\n",
       "      <td>0.0</td>\n",
       "      <td>11.16</td>\n",
       "      <td>0</td>\n",
       "      <td>...</td>\n",
       "      <td>0</td>\n",
       "      <td>0</td>\n",
       "      <td>0</td>\n",
       "      <td>0</td>\n",
       "      <td>0</td>\n",
       "      <td>0</td>\n",
       "      <td>0</td>\n",
       "      <td>1</td>\n",
       "      <td>82.424317</td>\n",
       "      <td>1</td>\n",
       "    </tr>\n",
       "  </tbody>\n",
       "</table>\n",
       "<p>270 rows × 22 columns</p>\n",
       "</div>"
      ],
      "text/plain": [
       "     X  Y month  day  temp  RH  wind  rain   area  apr  ...  feb  jul  jun  \\\n",
       "138  9  9   jul  tue  18.0  42   2.7   0.0   0.36    0  ...    0    1    0   \n",
       "139  1  4   sep  tue  21.7  38   2.2   0.0   0.43    0  ...    0    0    0   \n",
       "140  2  5   sep  mon  21.9  39   1.8   0.0   0.47    0  ...    0    0    0   \n",
       "141  1  2   aug  wed  23.3  31   4.5   0.0   0.55    0  ...    0    0    0   \n",
       "142  8  6   aug  fri  21.2  51   8.9   0.0   0.61    0  ...    0    0    0   \n",
       "..  .. ..   ...  ...   ...  ..   ...   ...    ...  ...  ...  ...  ...  ...   \n",
       "509  5  4   aug  fri  21.1  71   7.6   1.4   2.17    0  ...    0    0    0   \n",
       "510  6  5   aug  fri  18.2  62   5.4   0.0   0.43    0  ...    0    0    0   \n",
       "512  4  3   aug  sun  27.8  32   2.7   0.0   6.44    0  ...    0    0    0   \n",
       "513  2  4   aug  sun  21.9  71   5.8   0.0  54.29    0  ...    0    0    0   \n",
       "514  7  4   aug  sun  21.2  70   6.7   0.0  11.16    0  ...    0    0    0   \n",
       "\n",
       "     mar  may  oct  sep  weekend  PCA_4indicators  categorical_for_location  \n",
       "138    0    0    0    0        0      -265.320971                         0  \n",
       "139    0    0    0    1        0       122.370404                         1  \n",
       "140    0    0    0    1        0       115.824104                         0  \n",
       "141    0    0    0    0        0       -59.254211                         1  \n",
       "142    0    0    0    0        0       -41.590414                         1  \n",
       "..   ...  ...  ...  ...      ...              ...                       ...  \n",
       "509    0    0    0    0        0       188.197782                         0  \n",
       "510    0    0    0    0        0       188.197782                         1  \n",
       "512    0    0    0    0        1        82.424317                         0  \n",
       "513    0    0    0    0        1        82.424317                         0  \n",
       "514    0    0    0    0        1        82.424317                         1  \n",
       "\n",
       "[270 rows x 22 columns]"
      ]
     },
     "execution_count": 200,
     "metadata": {},
     "output_type": "execute_result"
    }
   ],
   "source": [
    "forest['categorical_for_location'] = categorical_for_location\n",
    "forest"
   ]
  },
  {
   "cell_type": "code",
   "execution_count": 201,
   "metadata": {},
   "outputs": [],
   "source": [
    "forest.drop(columns=['X', 'Y','day'], inplace = True)"
   ]
  },
  {
   "cell_type": "markdown",
   "metadata": {},
   "source": [
    "# Описание переменных"
   ]
  },
  {
   "cell_type": "code",
   "execution_count": 202,
   "metadata": {},
   "outputs": [],
   "source": [
    "kolonki = ['temp', 'RH', 'wind', 'rain',  'weekend', 'PCA_4indicators', 'categorical_for_location']"
   ]
  },
  {
   "cell_type": "code",
   "execution_count": 203,
   "metadata": {},
   "outputs": [],
   "source": [
    "d = {}\n",
    "for var in kolonki:\n",
    "    d[var] = (np.min(forest[var]), np.max(forest[var]), np.mean(forest[var]), np.median(forest[var]), np.var(forest[var]))"
   ]
  },
  {
   "cell_type": "code",
   "execution_count": 204,
   "metadata": {},
   "outputs": [
    {
     "data": {
      "text/plain": [
       "{'temp': (2.2, 33.3, 19.31111111111111, 20.1, 38.0440987654321),\n",
       " 'RH': (15, 96, 43.733333333333334, 41.0, 226.5659259259259),\n",
       " 'wind': (0.4, 9.4, 4.112962962962963, 4.0, 3.538461591220851),\n",
       " 'rain': (0.0, 6.4, 0.02888888888888889, 0.0, 0.15812839506172846),\n",
       " 'weekend': (0, 1, 0.3296296296296296, 0.0, 0.2209739368998628),\n",
       " 'PCA_4indicators': (-566.6093656373988,\n",
       "  317.0871381563081,\n",
       "  5.0527483431829344e-14,\n",
       "  92.81879180117872,\n",
       "  54469.22241889868),\n",
       " 'categorical_for_location': (0,\n",
       "  2,\n",
       "  0.6777777777777778,\n",
       "  1.0,\n",
       "  0.22580246913580249)}"
      ]
     },
     "execution_count": 204,
     "metadata": {},
     "output_type": "execute_result"
    }
   ],
   "source": [
    "d"
   ]
  },
  {
   "cell_type": "markdown",
   "metadata": {},
   "source": [
    "Температура: Чем жарче-тем больше шанс пожара. Ожидаю положительный знак\n",
    "\n",
    "Влажность (RH): Чем валжнее, тем больше влаги в деревьях, труднее гореть. Знак ожидаю отрицательный\n",
    "\n",
    "Ветер: Чем быстрее ветер, тем быстрее огонь распространится с дерева на дерево. Ожидаю положительный знак\n",
    "\n",
    "Дождь: Чем больше осадков, тем труднее гореть. Знак отрицательный. С другой стороны, если у нас нет 0 значений, то вероятно дождь в эти дни шел редко, следовательно может быть не значимм.\n",
    "\n",
    "Выходные: Уже говорил про человеческий фактор. Знак положительный\n",
    "\n",
    "PCA: Чем больше влаги в деревьях, тем труднее загореть. Знак отрицательный\n",
    "\n",
    "Категориальная переменная по месту: Специально созданная руками переменная. Ожидаю положительный знак и большую объясняющую способность.\n"
   ]
  },
  {
   "cell_type": "code",
   "execution_count": 205,
   "metadata": {},
   "outputs": [
    {
     "name": "stdout",
     "output_type": "stream",
     "text": [
      "Гистограмы по каждому признаку\n"
     ]
    },
    {
     "name": "stderr",
     "output_type": "stream",
     "text": [
      "c:\\python\\python37\\lib\\site-packages\\pandas\\plotting\\_matplotlib\\tools.py:307: MatplotlibDeprecationWarning: \n",
      "The rowNum attribute was deprecated in Matplotlib 3.2 and will be removed two minor releases later. Use ax.get_subplotspec().rowspan.start instead.\n",
      "  layout[ax.rowNum, ax.colNum] = ax.get_visible()\n",
      "c:\\python\\python37\\lib\\site-packages\\pandas\\plotting\\_matplotlib\\tools.py:307: MatplotlibDeprecationWarning: \n",
      "The colNum attribute was deprecated in Matplotlib 3.2 and will be removed two minor releases later. Use ax.get_subplotspec().colspan.start instead.\n",
      "  layout[ax.rowNum, ax.colNum] = ax.get_visible()\n",
      "c:\\python\\python37\\lib\\site-packages\\pandas\\plotting\\_matplotlib\\tools.py:313: MatplotlibDeprecationWarning: \n",
      "The rowNum attribute was deprecated in Matplotlib 3.2 and will be removed two minor releases later. Use ax.get_subplotspec().rowspan.start instead.\n",
      "  if not layout[ax.rowNum + 1, ax.colNum]:\n",
      "c:\\python\\python37\\lib\\site-packages\\pandas\\plotting\\_matplotlib\\tools.py:313: MatplotlibDeprecationWarning: \n",
      "The colNum attribute was deprecated in Matplotlib 3.2 and will be removed two minor releases later. Use ax.get_subplotspec().colspan.start instead.\n",
      "  if not layout[ax.rowNum + 1, ax.colNum]:\n"
     ]
    },
    {
     "data": {
      "image/png": "[encoded data removed]",
      "text/plain": [
       "<Figure size 720x576 with 9 Axes>"
      ]
     },
     "metadata": {
      "needs_background": "light"
     },
     "output_type": "display_data"
    }
   ],
   "source": [
    "forest[kolonki].hist(figsize = (10,8));\n",
    "print('Гистограмы по каждому признаку', flush = True)"
   ]
  },
  {
   "cell_type": "code",
   "execution_count": 206,
   "metadata": {},
   "outputs": [
    {
     "data": {
      "text/plain": [
       "['temp',\n",
       " 'RH',\n",
       " 'wind',\n",
       " 'rain',\n",
       " 'weekend',\n",
       " 'PCA_4indicators',\n",
       " 'categorical_for_location']"
      ]
     },
     "execution_count": 206,
     "metadata": {},
     "output_type": "execute_result"
    }
   ],
   "source": [
    "kolonki"
   ]
  },
  {
   "cell_type": "code",
   "execution_count": 207,
   "metadata": {},
   "outputs": [
    {
     "data": {
      "text/plain": [
       "Text(0, 0.5, 'Values of temp')"
      ]
     },
     "execution_count": 207,
     "metadata": {},
     "output_type": "execute_result"
    },
    {
     "data": {
      "image/png": "[encoded data removed]",
      "text/plain": [
       "<Figure size 432x288 with 1 Axes>"
      ]
     },
     "metadata": {
      "needs_background": "light"
     },
     "output_type": "display_data"
    }
   ],
   "source": [
    "var = 'temp'\n",
    "plt.boxplot(forest[var]);\n",
    "plt.title('Boxplot for ' + var)\n",
    "plt.xlabel('number of variables')\n",
    "plt.ylabel('Values of ' + var)"
   ]
  },
  {
   "cell_type": "code",
   "execution_count": 208,
   "metadata": {},
   "outputs": [
    {
     "data": {
      "text/plain": [
       "Text(0, 0.5, 'Values of RH')"
      ]
     },
     "execution_count": 208,
     "metadata": {},
     "output_type": "execute_result"
    },
    {
     "data": {
      "image/png": "[encoded data removed]",
      "text/plain": [
       "<Figure size 432x288 with 1 Axes>"
      ]
     },
     "metadata": {
      "needs_background": "light"
     },
     "output_type": "display_data"
    }
   ],
   "source": [
    "var = 'RH'\n",
    "plt.boxplot(forest[var]);\n",
    "plt.title('Boxplot for ' + var)\n",
    "plt.xlabel('number of variables')\n",
    "plt.ylabel('Values of ' + var)"
   ]
  },
  {
   "cell_type": "code",
   "execution_count": 209,
   "metadata": {},
   "outputs": [
    {
     "data": {
      "text/plain": [
       "Text(0, 0.5, 'Values of wind')"
      ]
     },
     "execution_count": 209,
     "metadata": {},
     "output_type": "execute_result"
    },
    {
     "data": {
      "image/png": "[encoded data removed]",
      "text/plain": [
       "<Figure size 432x288 with 1 Axes>"
      ]
     },
     "metadata": {
      "needs_background": "light"
     },
     "output_type": "display_data"
    }
   ],
   "source": [
    "var = 'wind'\n",
    "plt.boxplot(forest[var]);\n",
    "plt.title('Boxplot for ' + var)\n",
    "plt.xlabel('number of variables')\n",
    "plt.ylabel('Values of ' + var)"
   ]
  },
  {
   "cell_type": "code",
   "execution_count": 210,
   "metadata": {},
   "outputs": [
    {
     "data": {
      "text/plain": [
       "Text(0, 0.5, 'Values of rain')"
      ]
     },
     "execution_count": 210,
     "metadata": {},
     "output_type": "execute_result"
    },
    {
     "data": {
      "image/png": "[encoded data removed]",
      "text/plain": [
       "<Figure size 432x288 with 1 Axes>"
      ]
     },
     "metadata": {
      "needs_background": "light"
     },
     "output_type": "display_data"
    }
   ],
   "source": [
    "var = 'rain'\n",
    "plt.boxplot(forest[var]);\n",
    "plt.title('Boxplot for ' + var)\n",
    "plt.xlabel('number of variables')\n",
    "plt.ylabel('Values of ' + var)"
   ]
  },
  {
   "cell_type": "code",
   "execution_count": 211,
   "metadata": {},
   "outputs": [
    {
     "data": {
      "text/plain": [
       "Text(0, 0.5, 'Values of PCA_4indicators')"
      ]
     },
     "execution_count": 211,
     "metadata": {},
     "output_type": "execute_result"
    },
    {
     "data": {
      "image/png": "[encoded data removed]",
      "text/plain": [
       "<Figure size 432x288 with 1 Axes>"
      ]
     },
     "metadata": {
      "needs_background": "light"
     },
     "output_type": "display_data"
    }
   ],
   "source": [
    "var = 'PCA_4indicators'\n",
    "plt.boxplot(forest[var]);\n",
    "plt.title('Boxplot for ' + var)\n",
    "plt.xlabel('number of variables')\n",
    "plt.ylabel('Values of ' + var)"
   ]
  },
  {
   "cell_type": "code",
   "execution_count": 212,
   "metadata": {},
   "outputs": [
    {
     "data": {
      "image/png": "[encoded data removed]",
      "text/plain": [
       "<Figure size 432x288 with 1 Axes>"
      ]
     },
     "metadata": {
      "needs_background": "light"
     },
     "output_type": "display_data"
    }
   ],
   "source": [
    "plt.hist(np.log(forest['area']));\n",
    "plt.title('Гистограма площади')\n",
    "plt.xlabel('Значение Логарифмированной площади')\n",
    "plt.ylabel(\"Частота\")\n",
    "forest['log_area'] = np.log(forest.area)"
   ]
  },
  {
   "cell_type": "code",
   "execution_count": 213,
   "metadata": {},
   "outputs": [],
   "source": [
    "forest.drop(columns='area', inplace = True)"
   ]
  },
  {
   "cell_type": "markdown",
   "metadata": {},
   "source": [
    "# 3"
   ]
  },
  {
   "cell_type": "code",
   "execution_count": 214,
   "metadata": {},
   "outputs": [],
   "source": [
    "import pandas as pd\n",
    "import numpy as np\n",
    "from patsy import dmatrices\n",
    "import statsmodels.api as sm\n",
    "from statsmodels.stats.outliers_influence import variance_inflation_factor"
   ]
  },
  {
   "cell_type": "code",
   "execution_count": 215,
   "metadata": {},
   "outputs": [
    {
     "data": {
      "text/html": [
       "<div>\n",
       "<style scoped>\n",
       "    .dataframe tbody tr th:only-of-type {\n",
       "        vertical-align: middle;\n",
       "    }\n",
       "\n",
       "    .dataframe tbody tr th {\n",
       "        vertical-align: top;\n",
       "    }\n",
       "\n",
       "    .dataframe thead th {\n",
       "        text-align: right;\n",
       "    }\n",
       "</style>\n",
       "<table border=\"1\" class=\"dataframe\">\n",
       "  <thead>\n",
       "    <tr style=\"text-align: right;\">\n",
       "      <th></th>\n",
       "      <th>month</th>\n",
       "      <th>temp</th>\n",
       "      <th>RH</th>\n",
       "      <th>wind</th>\n",
       "      <th>rain</th>\n",
       "      <th>apr</th>\n",
       "      <th>aug</th>\n",
       "      <th>dec</th>\n",
       "      <th>feb</th>\n",
       "      <th>jul</th>\n",
       "      <th>jun</th>\n",
       "      <th>mar</th>\n",
       "      <th>may</th>\n",
       "      <th>oct</th>\n",
       "      <th>sep</th>\n",
       "      <th>weekend</th>\n",
       "      <th>PCA_4indicators</th>\n",
       "      <th>categorical_for_location</th>\n",
       "      <th>log_area</th>\n",
       "    </tr>\n",
       "  </thead>\n",
       "  <tbody>\n",
       "    <tr>\n",
       "      <th>138</th>\n",
       "      <td>jul</td>\n",
       "      <td>18.0</td>\n",
       "      <td>42</td>\n",
       "      <td>2.7</td>\n",
       "      <td>0.0</td>\n",
       "      <td>0</td>\n",
       "      <td>0</td>\n",
       "      <td>0</td>\n",
       "      <td>0</td>\n",
       "      <td>1</td>\n",
       "      <td>0</td>\n",
       "      <td>0</td>\n",
       "      <td>0</td>\n",
       "      <td>0</td>\n",
       "      <td>0</td>\n",
       "      <td>0</td>\n",
       "      <td>-265.320971</td>\n",
       "      <td>0</td>\n",
       "      <td>-1.021651</td>\n",
       "    </tr>\n",
       "    <tr>\n",
       "      <th>139</th>\n",
       "      <td>sep</td>\n",
       "      <td>21.7</td>\n",
       "      <td>38</td>\n",
       "      <td>2.2</td>\n",
       "      <td>0.0</td>\n",
       "      <td>0</td>\n",
       "      <td>0</td>\n",
       "      <td>0</td>\n",
       "      <td>0</td>\n",
       "      <td>0</td>\n",
       "      <td>0</td>\n",
       "      <td>0</td>\n",
       "      <td>0</td>\n",
       "      <td>0</td>\n",
       "      <td>1</td>\n",
       "      <td>0</td>\n",
       "      <td>122.370404</td>\n",
       "      <td>1</td>\n",
       "      <td>-0.843970</td>\n",
       "    </tr>\n",
       "    <tr>\n",
       "      <th>140</th>\n",
       "      <td>sep</td>\n",
       "      <td>21.9</td>\n",
       "      <td>39</td>\n",
       "      <td>1.8</td>\n",
       "      <td>0.0</td>\n",
       "      <td>0</td>\n",
       "      <td>0</td>\n",
       "      <td>0</td>\n",
       "      <td>0</td>\n",
       "      <td>0</td>\n",
       "      <td>0</td>\n",
       "      <td>0</td>\n",
       "      <td>0</td>\n",
       "      <td>0</td>\n",
       "      <td>1</td>\n",
       "      <td>0</td>\n",
       "      <td>115.824104</td>\n",
       "      <td>0</td>\n",
       "      <td>-0.755023</td>\n",
       "    </tr>\n",
       "    <tr>\n",
       "      <th>141</th>\n",
       "      <td>aug</td>\n",
       "      <td>23.3</td>\n",
       "      <td>31</td>\n",
       "      <td>4.5</td>\n",
       "      <td>0.0</td>\n",
       "      <td>0</td>\n",
       "      <td>1</td>\n",
       "      <td>0</td>\n",
       "      <td>0</td>\n",
       "      <td>0</td>\n",
       "      <td>0</td>\n",
       "      <td>0</td>\n",
       "      <td>0</td>\n",
       "      <td>0</td>\n",
       "      <td>0</td>\n",
       "      <td>0</td>\n",
       "      <td>-59.254211</td>\n",
       "      <td>1</td>\n",
       "      <td>-0.597837</td>\n",
       "    </tr>\n",
       "    <tr>\n",
       "      <th>142</th>\n",
       "      <td>aug</td>\n",
       "      <td>21.2</td>\n",
       "      <td>51</td>\n",
       "      <td>8.9</td>\n",
       "      <td>0.0</td>\n",
       "      <td>0</td>\n",
       "      <td>1</td>\n",
       "      <td>0</td>\n",
       "      <td>0</td>\n",
       "      <td>0</td>\n",
       "      <td>0</td>\n",
       "      <td>0</td>\n",
       "      <td>0</td>\n",
       "      <td>0</td>\n",
       "      <td>0</td>\n",
       "      <td>0</td>\n",
       "      <td>-41.590414</td>\n",
       "      <td>1</td>\n",
       "      <td>-0.494296</td>\n",
       "    </tr>\n",
       "  </tbody>\n",
       "</table>\n",
       "</div>"
      ],
      "text/plain": [
       "    month  temp  RH  wind  rain  apr  aug  dec  feb  jul  jun  mar  may  oct  \\\n",
       "138   jul  18.0  42   2.7   0.0    0    0    0    0    1    0    0    0    0   \n",
       "139   sep  21.7  38   2.2   0.0    0    0    0    0    0    0    0    0    0   \n",
       "140   sep  21.9  39   1.8   0.0    0    0    0    0    0    0    0    0    0   \n",
       "141   aug  23.3  31   4.5   0.0    0    1    0    0    0    0    0    0    0   \n",
       "142   aug  21.2  51   8.9   0.0    0    1    0    0    0    0    0    0    0   \n",
       "\n",
       "     sep  weekend  PCA_4indicators  categorical_for_location  log_area  \n",
       "138    0        0      -265.320971                         0 -1.021651  \n",
       "139    1        0       122.370404                         1 -0.843970  \n",
       "140    1        0       115.824104                         0 -0.755023  \n",
       "141    0        0       -59.254211                         1 -0.597837  \n",
       "142    0        0       -41.590414                         1 -0.494296  "
      ]
     },
     "execution_count": 215,
     "metadata": {},
     "output_type": "execute_result"
    }
   ],
   "source": [
    "forest.head()"
   ]
  },
  {
   "cell_type": "code",
   "execution_count": 216,
   "metadata": {},
   "outputs": [
    {
     "name": "stderr",
     "output_type": "stream",
     "text": [
      "c:\\python\\python37\\lib\\site-packages\\numpy\\core\\fromnumeric.py:2542: FutureWarning: Method .ptp is deprecated and will be removed in a future version. Use numpy.ptp instead.\n",
      "  return ptp(axis=axis, out=out, **kwargs)\n",
      "c:\\python\\python37\\lib\\site-packages\\statsmodels\\regression\\linear_model.py:1685: RuntimeWarning: divide by zero encountered in double_scalars\n",
      "  return 1 - self.ssr/self.centered_tss\n",
      "c:\\python\\python37\\lib\\site-packages\\statsmodels\\stats\\outliers_influence.py:193: RuntimeWarning: divide by zero encountered in double_scalars\n",
      "  vif = 1. / (1. - r_squared_i)\n"
     ]
    },
    {
     "data": {
      "text/plain": [
       "const                        0.000000\n",
       "temp                         5.298193\n",
       "RH                           2.455471\n",
       "wind                         1.267820\n",
       "rain                         1.081571\n",
       "apr                               inf\n",
       "aug                               inf\n",
       "dec                               inf\n",
       "feb                               inf\n",
       "jul                               inf\n",
       "jun                               inf\n",
       "mar                               inf\n",
       "may                               inf\n",
       "oct                               inf\n",
       "sep                               inf\n",
       "weekend                      1.073087\n",
       "PCA_4indicators             14.857770\n",
       "categorical_for_location     1.097141\n",
       "dtype: float64"
      ]
     },
     "execution_count": 216,
     "metadata": {},
     "output_type": "execute_result"
    }
   ],
   "source": [
    "#считаем Vif с константой\n",
    "from statsmodels.stats.outliers_influence import variance_inflation_factor\n",
    "from statsmodels.tools.tools import add_constant\n",
    "\n",
    "X = add_constant(forest.drop(columns=['log_area', 'month']))\n",
    "#X = forest.drop(columns=['log_area'])\n",
    "pd.Series([variance_inflation_factor(X.values, i) \n",
    "               for i in range(X.shape[1])], \n",
    "              index=X.columns)"
   ]
  },
  {
   "cell_type": "code",
   "execution_count": 217,
   "metadata": {},
   "outputs": [],
   "source": [
    "#Уберем дамми для месяцев и константу. CN проверим дальше\n",
    "forest = forest[['temp', 'RH', 'wind', 'rain', 'weekend', 'PCA_4indicators',\n",
    "       'categorical_for_location', 'log_area']]"
   ]
  },
  {
   "cell_type": "code",
   "execution_count": 218,
   "metadata": {},
   "outputs": [
    {
     "data": {
      "text/plain": [
       "temp                        5.200746\n",
       "RH                          6.317320\n",
       "wind                        5.407426\n",
       "rain                        1.017517\n",
       "weekend                     1.549592\n",
       "PCA_4indicators             1.241700\n",
       "categorical_for_location    2.802685\n",
       "dtype: float64"
      ]
     },
     "execution_count": 218,
     "metadata": {},
     "output_type": "execute_result"
    }
   ],
   "source": [
    "X = forest.drop(columns=['log_area'])\n",
    "pd.Series([variance_inflation_factor(X.values, i) \n",
    "               for i in range(X.shape[1])], \n",
    "              index=X.columns)"
   ]
  },
  {
   "cell_type": "markdown",
   "metadata": {},
   "source": [
    "# 4"
   ]
  },
  {
   "cell_type": "code",
   "execution_count": 219,
   "metadata": {},
   "outputs": [],
   "source": [
    "from statsmodels.regression.linear_model import OLS"
   ]
  },
  {
   "cell_type": "code",
   "execution_count": 220,
   "metadata": {},
   "outputs": [
    {
     "data": {
      "text/html": [
       "<table class=\"simpletable\">\n",
       "<caption>OLS Regression Results</caption>\n",
       "<tr>\n",
       "  <th>Dep. Variable:</th>        <td>log_area</td>     <th>  R-squared (uncentered):</th>      <td>   0.618</td>\n",
       "</tr>\n",
       "<tr>\n",
       "  <th>Model:</th>                   <td>OLS</td>       <th>  Adj. R-squared (uncentered):</th> <td>   0.608</td>\n",
       "</tr>\n",
       "<tr>\n",
       "  <th>Method:</th>             <td>Least Squares</td>  <th>  F-statistic:       </th>          <td>   60.89</td>\n",
       "</tr>\n",
       "<tr>\n",
       "  <th>Date:</th>             <td>Sat, 20 Jun 2020</td> <th>  Prob (F-statistic):</th>          <td>1.80e-51</td>\n",
       "</tr>\n",
       "<tr>\n",
       "  <th>Time:</th>                 <td>16:16:35</td>     <th>  Log-Likelihood:    </th>          <td> -488.62</td>\n",
       "</tr>\n",
       "<tr>\n",
       "  <th>No. Observations:</th>      <td>   270</td>      <th>  AIC:               </th>          <td>   991.2</td>\n",
       "</tr>\n",
       "<tr>\n",
       "  <th>Df Residuals:</th>          <td>   263</td>      <th>  BIC:               </th>          <td>   1016.</td>\n",
       "</tr>\n",
       "<tr>\n",
       "  <th>Df Model:</th>              <td>     7</td>      <th>                     </th>              <td> </td>   \n",
       "</tr>\n",
       "<tr>\n",
       "  <th>Covariance Type:</th>      <td>nonrobust</td>    <th>                     </th>              <td> </td>   \n",
       "</tr>\n",
       "</table>\n",
       "<table class=\"simpletable\">\n",
       "<tr>\n",
       "              <td></td>                <th>coef</th>     <th>std err</th>      <th>t</th>      <th>P>|t|</th>  <th>[0.025</th>    <th>0.975]</th>  \n",
       "</tr>\n",
       "<tr>\n",
       "  <th>temp</th>                     <td>    0.0332</td> <td>    0.010</td> <td>    3.238</td> <td> 0.001</td> <td>    0.013</td> <td>    0.053</td>\n",
       "</tr>\n",
       "<tr>\n",
       "  <th>RH</th>                       <td>    0.0018</td> <td>    0.005</td> <td>    0.373</td> <td> 0.710</td> <td>   -0.008</td> <td>    0.012</td>\n",
       "</tr>\n",
       "<tr>\n",
       "  <th>wind</th>                     <td>    0.0897</td> <td>    0.047</td> <td>    1.913</td> <td> 0.057</td> <td>   -0.003</td> <td>    0.182</td>\n",
       "</tr>\n",
       "<tr>\n",
       "  <th>rain</th>                     <td>   -0.0077</td> <td>    0.231</td> <td>   -0.034</td> <td> 0.973</td> <td>   -0.462</td> <td>    0.446</td>\n",
       "</tr>\n",
       "<tr>\n",
       "  <th>weekend</th>                  <td>    0.4380</td> <td>    0.198</td> <td>    2.216</td> <td> 0.028</td> <td>    0.049</td> <td>    0.827</td>\n",
       "</tr>\n",
       "<tr>\n",
       "  <th>PCA_4indicators</th>          <td>   -0.0004</td> <td>    0.000</td> <td>   -0.835</td> <td> 0.405</td> <td>   -0.001</td> <td>    0.000</td>\n",
       "</tr>\n",
       "<tr>\n",
       "  <th>categorical_for_location</th> <td>    0.8650</td> <td>    0.184</td> <td>    4.692</td> <td> 0.000</td> <td>    0.502</td> <td>    1.228</td>\n",
       "</tr>\n",
       "</table>\n",
       "<table class=\"simpletable\">\n",
       "<tr>\n",
       "  <th>Omnibus:</th>       <td> 0.204</td> <th>  Durbin-Watson:     </th> <td>   1.028</td>\n",
       "</tr>\n",
       "<tr>\n",
       "  <th>Prob(Omnibus):</th> <td> 0.903</td> <th>  Jarque-Bera (JB):  </th> <td>   0.072</td>\n",
       "</tr>\n",
       "<tr>\n",
       "  <th>Skew:</th>          <td> 0.027</td> <th>  Prob(JB):          </th> <td>   0.964</td>\n",
       "</tr>\n",
       "<tr>\n",
       "  <th>Kurtosis:</th>      <td> 3.060</td> <th>  Cond. No.          </th> <td>    595.</td>\n",
       "</tr>\n",
       "</table><br/><br/>Warnings:<br/>[1] Standard Errors assume that the covariance matrix of the errors is correctly specified."
      ],
      "text/plain": [
       "<class 'statsmodels.iolib.summary.Summary'>\n",
       "\"\"\"\n",
       "                                 OLS Regression Results                                \n",
       "=======================================================================================\n",
       "Dep. Variable:               log_area   R-squared (uncentered):                   0.618\n",
       "Model:                            OLS   Adj. R-squared (uncentered):              0.608\n",
       "Method:                 Least Squares   F-statistic:                              60.89\n",
       "Date:                Sat, 20 Jun 2020   Prob (F-statistic):                    1.80e-51\n",
       "Time:                        16:16:35   Log-Likelihood:                         -488.62\n",
       "No. Observations:                 270   AIC:                                      991.2\n",
       "Df Residuals:                     263   BIC:                                      1016.\n",
       "Df Model:                           7                                                  \n",
       "Covariance Type:            nonrobust                                                  \n",
       "============================================================================================\n",
       "                               coef    std err          t      P>|t|      [0.025      0.975]\n",
       "--------------------------------------------------------------------------------------------\n",
       "temp                         0.0332      0.010      3.238      0.001       0.013       0.053\n",
       "RH                           0.0018      0.005      0.373      0.710      -0.008       0.012\n",
       "wind                         0.0897      0.047      1.913      0.057      -0.003       0.182\n",
       "rain                        -0.0077      0.231     -0.034      0.973      -0.462       0.446\n",
       "weekend                      0.4380      0.198      2.216      0.028       0.049       0.827\n",
       "PCA_4indicators             -0.0004      0.000     -0.835      0.405      -0.001       0.000\n",
       "categorical_for_location     0.8650      0.184      4.692      0.000       0.502       1.228\n",
       "==============================================================================\n",
       "Omnibus:                        0.204   Durbin-Watson:                   1.028\n",
       "Prob(Omnibus):                  0.903   Jarque-Bera (JB):                0.072\n",
       "Skew:                           0.027   Prob(JB):                        0.964\n",
       "Kurtosis:                       3.060   Cond. No.                         595.\n",
       "==============================================================================\n",
       "\n",
       "Warnings:\n",
       "[1] Standard Errors assume that the covariance matrix of the errors is correctly specified.\n",
       "\"\"\""
      ]
     },
     "execution_count": 220,
     "metadata": {},
     "output_type": "execute_result"
    }
   ],
   "source": [
    "#Строим регрессию Р квадрат - бомба\n",
    "y = forest['log_area']\n",
    "X = forest.drop(columns= 'log_area')\n",
    "ols = OLS(y, X)\n",
    "model = ols.fit()\n",
    "model.summary()"
   ]
  },
  {
   "cell_type": "code",
   "execution_count": 221,
   "metadata": {},
   "outputs": [
    {
     "data": {
      "text/plain": [
       "594.7970962147356"
      ]
     },
     "execution_count": 221,
     "metadata": {},
     "output_type": "execute_result"
    }
   ],
   "source": [
    "model.condition_number"
   ]
  },
  {
   "cell_type": "markdown",
   "metadata": {},
   "source": [
    "CN < 1000, так что все хорошо"
   ]
  },
  {
   "cell_type": "markdown",
   "metadata": {},
   "source": [
    "Тест Jarque-Bera Не отвергает нулевую гипотезу о нормальности ошибок"
   ]
  },
  {
   "cell_type": "code",
   "execution_count": 222,
   "metadata": {},
   "outputs": [
    {
     "data": {
      "text/plain": [
       "Text(0, 0.5, 'Частота')"
      ]
     },
     "execution_count": 222,
     "metadata": {},
     "output_type": "execute_result"
    },
    {
     "data": {
      "image/png": "[encoded data removed]",
      "text/plain": [
       "<Figure size 432x288 with 1 Axes>"
      ]
     },
     "metadata": {
      "needs_background": "light"
     },
     "output_type": "display_data"
    }
   ],
   "source": [
    "import seaborn as sns\n",
    "import statsmodels.stats\n",
    "sns.distplot(model.resid)\n",
    "plt.title('Распределение ошибок регресии')\n",
    "plt.xlabel('Значение ошибки')\n",
    "plt.ylabel('Частота')"
   ]
  },
  {
   "cell_type": "code",
   "execution_count": null,
   "metadata": {},
   "outputs": [],
   "source": []
  },
  {
   "cell_type": "code",
   "execution_count": 224,
   "metadata": {},
   "outputs": [
    {
     "name": "stdout",
     "output_type": "stream",
     "text": [
      "p_value: 0.7921035331510281\n"
     ]
    }
   ],
   "source": [
    "#Проверим на отличие ошибок от 0\n",
    "print('p_value:',statsmodels.stats.weightstats.ztest(model.resid)[1]) "
   ]
  },
  {
   "cell_type": "markdown",
   "metadata": {},
   "source": [
    "Таким образом, ошибки нормально распределены и НЕ отличны от нуля. УРа, товарищи!"
   ]
  },
  {
   "cell_type": "markdown",
   "metadata": {},
   "source": [
    "# Оценим коэффициенты бутстрепом"
   ]
  },
  {
   "cell_type": "code",
   "execution_count": 41,
   "metadata": {},
   "outputs": [],
   "source": [
    "from tqdm import tqdm"
   ]
  },
  {
   "cell_type": "code",
   "execution_count": 42,
   "metadata": {},
   "outputs": [
    {
     "name": "stderr",
     "output_type": "stream",
     "text": [
      "100%|███████████████████████████████████████████████████████████████████████████| 10000/10000 [00:15<00:00, 644.48it/s]\n"
     ]
    }
   ],
   "source": [
    "coeffs = []\n",
    "\n",
    "for i in tqdm(range(10000)):\n",
    "    boots = forest.sample(30)\n",
    "    y = boots['log_area']\n",
    "    X = boots.drop(columns= 'log_area')\n",
    "    ols_boot = OLS(y, X)\n",
    "    model_boot = ols_boot.fit()\n",
    "    coeffs.append(list(model_boot.params))"
   ]
  },
  {
   "cell_type": "code",
   "execution_count": 225,
   "metadata": {},
   "outputs": [
    {
     "name": "stdout",
     "output_type": "stream",
     "text": [
      "Доверительный интервал для коэффициента при temp 0.032462021023304824 0.03363898393725323\n",
      "Доверительный интервал для коэффициента при RH 0.0015189005075074268 0.002116832468394941\n",
      "Доверительный интервал для коэффициента при wind 0.08831041149629963 0.09406296158410764\n",
      "Доверительный интервал для коэффициента при rain -0.05077951577704467 -0.04141073500022927\n",
      "Доверительный интервал для коэффициента при weekend 0.43571741944613973 0.46139240667924786\n",
      "Доверительный интервал для коэффициента при PCA_4indicators -0.00031029034680763357 -0.000261303974702199\n",
      "Доверительный интервал для коэффициента при categorical_for_location 0.83605846290821 0.8578655615789021\n"
     ]
    }
   ],
   "source": [
    "from statsmodels.stats.weightstats import _tconfint_generic as conf_int\n",
    "for i in range(7):\n",
    "    print('Доверительный интервал для коэффициента при',boots.columns[i],np.mean(np.array(coeffs)[:, i])- 1.96*np.std(np.array(coeffs)[:, i])/np.sqrt(10000), np.mean(np.array(coeffs)[:, i])+ 1.96*np.std(np.array(coeffs)[:, i])/100 )"
   ]
  },
  {
   "cell_type": "markdown",
   "metadata": {},
   "source": [
    "# 5"
   ]
  },
  {
   "cell_type": "code",
   "execution_count": 44,
   "metadata": {},
   "outputs": [
    {
     "data": {
      "text/plain": [
       "array([20.1      , 41.       ,  4.       ,  0.       ,  0.       ,\n",
       "       92.8187918,  1.       ])"
      ]
     },
     "execution_count": 44,
     "metadata": {},
     "output_type": "execute_result"
    }
   ],
   "source": [
    "forest.drop(columns = 'log_area').median().values"
   ]
  },
  {
   "cell_type": "code",
   "execution_count": 236,
   "metadata": {
    "scrolled": true
   },
   "outputs": [
    {
     "name": "stdout",
     "output_type": "stream",
     "text": [
      "Точеный прогноз: [1.93294371]\n"
     ]
    }
   ],
   "source": [
    "print('Точеный прогноз:', model.predict(forest.drop(columns = 'log_area').median().values))"
   ]
  },
  {
   "cell_type": "code",
   "execution_count": 45,
   "metadata": {},
   "outputs": [
    {
     "data": {
      "text/html": [
       "<div>\n",
       "<style scoped>\n",
       "    .dataframe tbody tr th:only-of-type {\n",
       "        vertical-align: middle;\n",
       "    }\n",
       "\n",
       "    .dataframe tbody tr th {\n",
       "        vertical-align: top;\n",
       "    }\n",
       "\n",
       "    .dataframe thead th {\n",
       "        text-align: right;\n",
       "    }\n",
       "</style>\n",
       "<table border=\"1\" class=\"dataframe\">\n",
       "  <thead>\n",
       "    <tr style=\"text-align: right;\">\n",
       "      <th></th>\n",
       "      <th>mean</th>\n",
       "      <th>mean_se</th>\n",
       "      <th>mean_ci_lower</th>\n",
       "      <th>mean_ci_upper</th>\n",
       "      <th>obs_ci_lower</th>\n",
       "      <th>obs_ci_upper</th>\n",
       "    </tr>\n",
       "  </thead>\n",
       "  <tbody>\n",
       "    <tr>\n",
       "      <th>0</th>\n",
       "      <td>1.932944</td>\n",
       "      <td>0.133014</td>\n",
       "      <td>1.671036</td>\n",
       "      <td>2.194852</td>\n",
       "      <td>-1.027623</td>\n",
       "      <td>4.893511</td>\n",
       "    </tr>\n",
       "  </tbody>\n",
       "</table>\n",
       "</div>"
      ],
      "text/plain": [
       "       mean   mean_se  mean_ci_lower  mean_ci_upper  obs_ci_lower  \\\n",
       "0  1.932944  0.133014       1.671036       2.194852     -1.027623   \n",
       "\n",
       "   obs_ci_upper  \n",
       "0      4.893511  "
      ]
     },
     "execution_count": 45,
     "metadata": {},
     "output_type": "execute_result"
    }
   ],
   "source": [
    "predictions = model.get_prediction(forest.drop(columns = 'log_area').median().values)\n",
    "predictions.summary_frame(alpha=0.05)"
   ]
  },
  {
   "cell_type": "code",
   "execution_count": 233,
   "metadata": {},
   "outputs": [
    {
     "name": "stdout",
     "output_type": "stream",
     "text": [
      "Интервал для среднего:  (1.6710357005925167, 2.1948517177167277)\n"
     ]
    }
   ],
   "source": [
    "print('Интервал для среднего: ', (predictions.summary_frame().values[0][2], predictions.summary_frame().values[0][3]))"
   ]
  },
  {
   "cell_type": "markdown",
   "metadata": {},
   "source": [
    "# 6"
   ]
  },
  {
   "cell_type": "markdown",
   "metadata": {},
   "source": [
    "Хоть гетероскедастичности и нет, все равно глянем на связь ошибок в квадрате и регрессоров\n",
    "\n",
    "Ожидаю гетероскедастичность у температуры, так как с ее повышением площади могут расти экспоненциально"
   ]
  },
  {
   "cell_type": "code",
   "execution_count": 47,
   "metadata": {},
   "outputs": [
    {
     "data": {
      "image/png": "[encoded data removed]",
      "text/plain": [
       "<Figure size 864x1440 with 7 Axes>"
      ]
     },
     "metadata": {
      "needs_background": "light"
     },
     "output_type": "display_data"
    }
   ],
   "source": [
    "fig = plt.figure(figsize=(12,20))\n",
    "for i in range(1,8):\n",
    "    plt.subplot(7, 1, i)\n",
    "    plt.scatter(forest.iloc[:,i-1], model.resid.values ** 2)\n",
    "    plt.title('Взаимосвязь квадрата ошибки регрессии и ' +forest.columns[i-1])\n",
    "    plt.xlabel('значения ' + forest.columns[i-1])\n",
    "    plt.ylabel('Ошибка^2')\n",
    "    plt.subplots_adjust(hspace = 1)"
   ]
  },
  {
   "cell_type": "markdown",
   "metadata": {},
   "source": [
    "# 7"
   ]
  },
  {
   "cell_type": "code",
   "execution_count": 48,
   "metadata": {},
   "outputs": [
    {
     "name": "stdout",
     "output_type": "stream",
     "text": [
      "F statistic: 0.6866836575614262 p-value: 0.9848133203846033\n",
      "F statistic: 0.6877307430580095 p-value: 0.9844761515581036\n",
      "F statistic: 0.6869074907741777 p-value: 0.9847417370612868\n",
      "F statistic: 0.6878941549794318 p-value: 0.9844230011404907\n"
     ]
    }
   ],
   "source": [
    "#Проведем тест Голдфелда-Кванта\n",
    "import statsmodels.stats.api as sms\n",
    "for i in [0,1,2,5]:\n",
    "    test = sms.het_goldfeldquandt(model.resid, forest.iloc[:,i].values.reshape(-1,1))\n",
    "    print('F statistic:', test[0], 'p-value:', test[1])"
   ]
  },
  {
   "cell_type": "markdown",
   "metadata": {},
   "source": [
    "Все критические значения близки к 1, следовательно, гипотеза о гетероскедастичности НЕ подтвердилась"
   ]
  },
  {
   "cell_type": "markdown",
   "metadata": {},
   "source": [
    "# 8"
   ]
  },
  {
   "cell_type": "markdown",
   "metadata": {},
   "source": [
    "Строим обычную регрессию берем оттуда реальные ошибки в квадрате. И считаем что теоретические ошибки в квадрате пропорциональные реальным"
   ]
  },
  {
   "cell_type": "markdown",
   "metadata": {},
   "source": [
    "$\\beta_{HC0} = (X^TX)^{-1}X^T diag(e^2_1 ... e^2_n) X(X^tX)^{-1}$"
   ]
  },
  {
   "cell_type": "code",
   "execution_count": 52,
   "metadata": {},
   "outputs": [
    {
     "name": "stdout",
     "output_type": "stream",
     "text": [
      "                                 OLS Regression Results                                \n",
      "=======================================================================================\n",
      "Dep. Variable:               log_area   R-squared (uncentered):                   0.618\n",
      "Model:                            OLS   Adj. R-squared (uncentered):              0.608\n",
      "Method:                 Least Squares   F-statistic:                              80.65\n",
      "Date:                Sat, 20 Jun 2020   Prob (F-statistic):                    8.15e-62\n",
      "Time:                        14:56:02   Log-Likelihood:                         -488.62\n",
      "No. Observations:                 270   AIC:                                      991.2\n",
      "Df Residuals:                     263   BIC:                                      1016.\n",
      "Df Model:                           7                                                  \n",
      "Covariance Type:                  HC0                                                  \n",
      "============================================================================================\n",
      "                               coef    std err          t      P>|t|      [0.025      0.975]\n",
      "--------------------------------------------------------------------------------------------\n",
      "temp                         0.0332      0.009      3.749      0.000       0.016       0.051\n",
      "RH                           0.0018      0.004      0.417      0.677      -0.007       0.011\n",
      "wind                         0.0897      0.042      2.125      0.035       0.007       0.173\n",
      "rain                        -0.0077      0.041     -0.188      0.851      -0.089       0.073\n",
      "weekend                      0.4380      0.201      2.174      0.031       0.041       0.835\n",
      "PCA_4indicators             -0.0004      0.000     -1.011      0.313      -0.001       0.000\n",
      "categorical_for_location     0.8650      0.173      4.995      0.000       0.524       1.206\n",
      "==============================================================================\n",
      "Omnibus:                        0.204   Durbin-Watson:                   1.028\n",
      "Prob(Omnibus):                  0.903   Jarque-Bera (JB):                0.072\n",
      "Skew:                           0.027   Prob(JB):                        0.964\n",
      "Kurtosis:                       3.060   Cond. No.                         595.\n",
      "==============================================================================\n",
      "\n",
      "Warnings:\n",
      "[1] Standard Errors are heteroscedasticity robust (HC0)\n"
     ]
    }
   ],
   "source": [
    "from statsmodels.regression.linear_model import WLS\n",
    "ols_hc0 = OLS(forest['log_area'], forest.drop(columns = 'log_area'))\n",
    "model_ols_hc0 = ols_hc0.fit()\n",
    "print(model_ols_hc0.get_robustcov_results(cov_type = \"HC0\").summary())"
   ]
  },
  {
   "cell_type": "markdown",
   "metadata": {},
   "source": [
    "$H = X(X^tX)^{-1} X^t$ \n",
    "\n",
    "$h_{ii} - H[i,i]$\n",
    "\n",
    "$\\beta_{HC3} = (X^TX)^{-1}X^T diag(e^2_1 ... e^2_n) X(X^tX)^{-1}$"
   ]
  },
  {
   "cell_type": "code",
   "execution_count": 53,
   "metadata": {},
   "outputs": [
    {
     "name": "stdout",
     "output_type": "stream",
     "text": [
      "                                 OLS Regression Results                                \n",
      "=======================================================================================\n",
      "Dep. Variable:               log_area   R-squared (uncentered):                   0.618\n",
      "Model:                            OLS   Adj. R-squared (uncentered):              0.608\n",
      "Method:                 Least Squares   F-statistic:                              56.84\n",
      "Date:                Sat, 20 Jun 2020   Prob (F-statistic):                    4.18e-49\n",
      "Time:                        14:56:02   Log-Likelihood:                         -488.62\n",
      "No. Observations:                 270   AIC:                                      991.2\n",
      "Df Residuals:                     263   BIC:                                      1016.\n",
      "Df Model:                           7                                                  \n",
      "Covariance Type:                  HC3                                                  \n",
      "============================================================================================\n",
      "                               coef    std err          t      P>|t|      [0.025      0.975]\n",
      "--------------------------------------------------------------------------------------------\n",
      "temp                         0.0332      0.009      3.656      0.000       0.015       0.051\n",
      "RH                           0.0018      0.005      0.406      0.685      -0.007       0.011\n",
      "wind                         0.0897      0.044      2.060      0.040       0.004       0.175\n",
      "rain                        -0.0077      0.490     -0.016      0.987      -0.972       0.956\n",
      "weekend                      0.4380      0.206      2.127      0.034       0.033       0.844\n",
      "PCA_4indicators             -0.0004      0.000     -0.980      0.328      -0.001       0.000\n",
      "categorical_for_location     0.8650      0.177      4.874      0.000       0.516       1.214\n",
      "==============================================================================\n",
      "Omnibus:                        0.204   Durbin-Watson:                   1.028\n",
      "Prob(Omnibus):                  0.903   Jarque-Bera (JB):                0.072\n",
      "Skew:                           0.027   Prob(JB):                        0.964\n",
      "Kurtosis:                       3.060   Cond. No.                         595.\n",
      "==============================================================================\n",
      "\n",
      "Warnings:\n",
      "[1] Standard Errors are heteroscedasticity robust (HC3)\n"
     ]
    }
   ],
   "source": [
    "from statsmodels.regression.linear_model import WLS\n",
    "ols_hc3 = OLS(forest['log_area'], forest.drop(columns = 'log_area'))\n",
    "model_ols_hc3 = ols_hc3.fit()\n",
    "print(model_ols_hc3.get_robustcov_results(cov_type = \"HC3\").summary())"
   ]
  },
  {
   "cell_type": "markdown",
   "metadata": {},
   "source": [
    "# 9"
   ]
  },
  {
   "cell_type": "code",
   "execution_count": 54,
   "metadata": {},
   "outputs": [
    {
     "data": {
      "text/plain": [
       "array([0.99529573, 0.00427526])"
      ]
     },
     "execution_count": 54,
     "metadata": {},
     "output_type": "execute_result"
    }
   ],
   "source": [
    "from sklearn.decomposition import IncrementalPCA as PCA\n",
    "pca = PCA(n_components = 2)\n",
    "for_fit = forest.drop(columns= 'log_area')\n",
    "for_fit = pca.fit_transform(for_fit)\n",
    "pca.explained_variance_ratio_"
   ]
  },
  {
   "cell_type": "code",
   "execution_count": 55,
   "metadata": {},
   "outputs": [
    {
     "data": {
      "text/html": [
       "<table class=\"simpletable\">\n",
       "<caption>OLS Regression Results</caption>\n",
       "<tr>\n",
       "  <th>Dep. Variable:</th>        <td>log_area</td>     <th>  R-squared (uncentered):</th>      <td>   0.001</td>\n",
       "</tr>\n",
       "<tr>\n",
       "  <th>Model:</th>                   <td>OLS</td>       <th>  Adj. R-squared (uncentered):</th> <td>  -0.006</td>\n",
       "</tr>\n",
       "<tr>\n",
       "  <th>Method:</th>             <td>Least Squares</td>  <th>  F-statistic:       </th>          <td>  0.1645</td>\n",
       "</tr>\n",
       "<tr>\n",
       "  <th>Date:</th>             <td>Sat, 20 Jun 2020</td> <th>  Prob (F-statistic):</th>           <td> 0.848</td> \n",
       "</tr>\n",
       "<tr>\n",
       "  <th>Time:</th>                 <td>14:56:02</td>     <th>  Log-Likelihood:    </th>          <td> -618.52</td>\n",
       "</tr>\n",
       "<tr>\n",
       "  <th>No. Observations:</th>      <td>   270</td>      <th>  AIC:               </th>          <td>   1241.</td>\n",
       "</tr>\n",
       "<tr>\n",
       "  <th>Df Residuals:</th>          <td>   268</td>      <th>  BIC:               </th>          <td>   1248.</td>\n",
       "</tr>\n",
       "<tr>\n",
       "  <th>Df Model:</th>              <td>     2</td>      <th>                     </th>              <td> </td>   \n",
       "</tr>\n",
       "<tr>\n",
       "  <th>Covariance Type:</th>      <td>nonrobust</td>    <th>                     </th>              <td> </td>   \n",
       "</tr>\n",
       "</table>\n",
       "<table class=\"simpletable\">\n",
       "<tr>\n",
       "   <td></td>     <th>coef</th>     <th>std err</th>      <th>t</th>      <th>P>|t|</th>  <th>[0.025</th>    <th>0.975]</th>  \n",
       "</tr>\n",
       "<tr>\n",
       "  <th>x1</th> <td>   -0.0002</td> <td>    0.001</td> <td>   -0.278</td> <td> 0.781</td> <td>   -0.001</td> <td>    0.001</td>\n",
       "</tr>\n",
       "<tr>\n",
       "  <th>x2</th> <td>   -0.0048</td> <td>    0.010</td> <td>   -0.501</td> <td> 0.616</td> <td>   -0.024</td> <td>    0.014</td>\n",
       "</tr>\n",
       "</table>\n",
       "<table class=\"simpletable\">\n",
       "<tr>\n",
       "  <th>Omnibus:</th>       <td> 4.721</td> <th>  Durbin-Watson:     </th> <td>   0.371</td>\n",
       "</tr>\n",
       "<tr>\n",
       "  <th>Prob(Omnibus):</th> <td> 0.094</td> <th>  Jarque-Bera (JB):  </th> <td>   4.389</td>\n",
       "</tr>\n",
       "<tr>\n",
       "  <th>Skew:</th>          <td> 0.288</td> <th>  Prob(JB):          </th> <td>   0.111</td>\n",
       "</tr>\n",
       "<tr>\n",
       "  <th>Kurtosis:</th>      <td> 3.244</td> <th>  Cond. No.          </th> <td>    15.3</td>\n",
       "</tr>\n",
       "</table><br/><br/>Warnings:<br/>[1] Standard Errors assume that the covariance matrix of the errors is correctly specified."
      ],
      "text/plain": [
       "<class 'statsmodels.iolib.summary.Summary'>\n",
       "\"\"\"\n",
       "                                 OLS Regression Results                                \n",
       "=======================================================================================\n",
       "Dep. Variable:               log_area   R-squared (uncentered):                   0.001\n",
       "Model:                            OLS   Adj. R-squared (uncentered):             -0.006\n",
       "Method:                 Least Squares   F-statistic:                             0.1645\n",
       "Date:                Sat, 20 Jun 2020   Prob (F-statistic):                       0.848\n",
       "Time:                        14:56:02   Log-Likelihood:                         -618.52\n",
       "No. Observations:                 270   AIC:                                      1241.\n",
       "Df Residuals:                     268   BIC:                                      1248.\n",
       "Df Model:                           2                                                  \n",
       "Covariance Type:            nonrobust                                                  \n",
       "==============================================================================\n",
       "                 coef    std err          t      P>|t|      [0.025      0.975]\n",
       "------------------------------------------------------------------------------\n",
       "x1            -0.0002      0.001     -0.278      0.781      -0.001       0.001\n",
       "x2            -0.0048      0.010     -0.501      0.616      -0.024       0.014\n",
       "==============================================================================\n",
       "Omnibus:                        4.721   Durbin-Watson:                   0.371\n",
       "Prob(Omnibus):                  0.094   Jarque-Bera (JB):                4.389\n",
       "Skew:                           0.288   Prob(JB):                        0.111\n",
       "Kurtosis:                       3.244   Cond. No.                         15.3\n",
       "==============================================================================\n",
       "\n",
       "Warnings:\n",
       "[1] Standard Errors assume that the covariance matrix of the errors is correctly specified.\n",
       "\"\"\""
      ]
     },
     "execution_count": 55,
     "metadata": {},
     "output_type": "execute_result"
    }
   ],
   "source": [
    "pca_ols = OLS(forest['log_area'], for_fit)\n",
    "model_pca_ols  = pca_ols .fit()\n",
    "model_pca_ols .summary()"
   ]
  },
  {
   "cell_type": "markdown",
   "metadata": {},
   "source": [
    "# 10\n"
   ]
  },
  {
   "cell_type": "markdown",
   "metadata": {},
   "source": [
    " $L = (2\\pi\\sigma^2)^{-N/2} exp(\\frac{-(y-X\\beta)^T(y-X\\beta)}{2\\sigma^2} )$"
   ]
  },
  {
   "cell_type": "markdown",
   "metadata": {},
   "source": [
    "a)"
   ]
  },
  {
   "cell_type": "code",
   "execution_count": 58,
   "metadata": {},
   "outputs": [],
   "source": [
    "y = forest['log_area']\n",
    "X = forest.drop(columns='log_area').values\n",
    "B = ((np.linalg.inv(X.T.dot(X))).dot(X.T)).dot(y)\n",
    "Sigma = ((y - X.dot(B)).T).dot(y - X.dot(B))/270"
   ]
  },
  {
   "cell_type": "markdown",
   "metadata": {},
   "source": [
    "b)"
   ]
  },
  {
   "cell_type": "code",
   "execution_count": 540,
   "metadata": {},
   "outputs": [],
   "source": [
    "import numpy as np\n",
    "def calc_grad(init = np.ones(7),  delta = 0.00001, dataframe = forest):\n",
    "    y = dataframe['log_area'].values\n",
    "    X = dataframe.drop(columns='log_area').values\n",
    "    error_sqr = ((y - X.dot(init)).T).dot(y - X.dot(init))\n",
    "    sigma = error_sqr/270\n",
    "    #sigma = 1\n",
    "    error_sqr_step = []\n",
    "    for i in range(init.shape[0]):\n",
    "        init_plus_delta = init.copy()\n",
    "        init_plus_delta[i] += delta\n",
    "        error_sqr_step.append(((y - X.dot(init_plus_delta)).T).dot(y - X.dot(init_plus_delta)))\n",
    "                              \n",
    "    error_sqr_step = np.array(error_sqr_step)\n",
    "    grad_b = -1/(delta*2*sigma)*(error_sqr*np.ones(7) - error_sqr_step)\n",
    "                              \n",
    "    return grad_b"
   ]
  },
  {
   "cell_type": "code",
   "execution_count": null,
   "metadata": {},
   "outputs": [],
   "source": []
  },
  {
   "cell_type": "code",
   "execution_count": 543,
   "metadata": {},
   "outputs": [],
   "source": [
    "n_steps = 10000\n",
    "i = 0\n",
    "real_diff = 1\n",
    "Beta_init = np.ones(7)\n",
    "lrn_rate = 0.0005\n",
    "while i < n_steps and real_diff > 0.0001:\n",
    "    Beta_old = Beta_init.copy()\n",
    "    Beta_init = Beta_init - lrn_rate * calc_grad(init = Beta_init)\n",
    "    i+=1\n",
    "    real_diff = ((Beta_old - Beta_init) ** 2).sum()"
   ]
  },
  {
   "cell_type": "code",
   "execution_count": 544,
   "metadata": {},
   "outputs": [
    {
     "data": {
      "text/plain": [
       "10000"
      ]
     },
     "execution_count": 544,
     "metadata": {},
     "output_type": "execute_result"
    }
   ],
   "source": [
    "i"
   ]
  },
  {
   "cell_type": "code",
   "execution_count": 545,
   "metadata": {},
   "outputs": [
    {
     "data": {
      "text/plain": [
       "0.00028214169791246417"
      ]
     },
     "execution_count": 545,
     "metadata": {},
     "output_type": "execute_result"
    }
   ],
   "source": [
    "real_diff"
   ]
  },
  {
   "cell_type": "code",
   "execution_count": 546,
   "metadata": {},
   "outputs": [
    {
     "data": {
      "text/plain": [
       "array([-0.08360157,  0.0364289 ,  0.1550954 ,  0.89972308,  0.92559045,\n",
       "       -8.01968349,  0.94349426])"
      ]
     },
     "execution_count": 546,
     "metadata": {},
     "output_type": "execute_result"
    }
   ],
   "source": [
    "Beta_init"
   ]
  },
  {
   "cell_type": "code",
   "execution_count": 519,
   "metadata": {},
   "outputs": [
    {
     "data": {
      "text/html": [
       "<table class=\"simpletable\">\n",
       "<caption>OLS Regression Results</caption>\n",
       "<tr>\n",
       "  <th>Dep. Variable:</th>        <td>log_area</td>     <th>  R-squared (uncentered):</th>      <td>   0.618</td>\n",
       "</tr>\n",
       "<tr>\n",
       "  <th>Model:</th>                   <td>OLS</td>       <th>  Adj. R-squared (uncentered):</th> <td>   0.608</td>\n",
       "</tr>\n",
       "<tr>\n",
       "  <th>Method:</th>             <td>Least Squares</td>  <th>  F-statistic:       </th>          <td>   60.89</td>\n",
       "</tr>\n",
       "<tr>\n",
       "  <th>Date:</th>             <td>Sat, 20 Jun 2020</td> <th>  Prob (F-statistic):</th>          <td>1.80e-51</td>\n",
       "</tr>\n",
       "<tr>\n",
       "  <th>Time:</th>                 <td>17:55:27</td>     <th>  Log-Likelihood:    </th>          <td> -488.62</td>\n",
       "</tr>\n",
       "<tr>\n",
       "  <th>No. Observations:</th>      <td>   270</td>      <th>  AIC:               </th>          <td>   991.2</td>\n",
       "</tr>\n",
       "<tr>\n",
       "  <th>Df Residuals:</th>          <td>   263</td>      <th>  BIC:               </th>          <td>   1016.</td>\n",
       "</tr>\n",
       "<tr>\n",
       "  <th>Df Model:</th>              <td>     7</td>      <th>                     </th>              <td> </td>   \n",
       "</tr>\n",
       "<tr>\n",
       "  <th>Covariance Type:</th>      <td>nonrobust</td>    <th>                     </th>              <td> </td>   \n",
       "</tr>\n",
       "</table>\n",
       "<table class=\"simpletable\">\n",
       "<tr>\n",
       "              <td></td>                <th>coef</th>     <th>std err</th>      <th>t</th>      <th>P>|t|</th>  <th>[0.025</th>    <th>0.975]</th>  \n",
       "</tr>\n",
       "<tr>\n",
       "  <th>temp</th>                     <td>    0.0332</td> <td>    0.010</td> <td>    3.238</td> <td> 0.001</td> <td>    0.013</td> <td>    0.053</td>\n",
       "</tr>\n",
       "<tr>\n",
       "  <th>RH</th>                       <td>    0.0018</td> <td>    0.005</td> <td>    0.373</td> <td> 0.710</td> <td>   -0.008</td> <td>    0.012</td>\n",
       "</tr>\n",
       "<tr>\n",
       "  <th>wind</th>                     <td>    0.0897</td> <td>    0.047</td> <td>    1.913</td> <td> 0.057</td> <td>   -0.003</td> <td>    0.182</td>\n",
       "</tr>\n",
       "<tr>\n",
       "  <th>rain</th>                     <td>   -0.0077</td> <td>    0.231</td> <td>   -0.034</td> <td> 0.973</td> <td>   -0.462</td> <td>    0.446</td>\n",
       "</tr>\n",
       "<tr>\n",
       "  <th>weekend</th>                  <td>    0.4380</td> <td>    0.198</td> <td>    2.216</td> <td> 0.028</td> <td>    0.049</td> <td>    0.827</td>\n",
       "</tr>\n",
       "<tr>\n",
       "  <th>PCA_4indicators</th>          <td>   -0.0004</td> <td>    0.000</td> <td>   -0.835</td> <td> 0.405</td> <td>   -0.001</td> <td>    0.000</td>\n",
       "</tr>\n",
       "<tr>\n",
       "  <th>categorical_for_location</th> <td>    0.8650</td> <td>    0.184</td> <td>    4.692</td> <td> 0.000</td> <td>    0.502</td> <td>    1.228</td>\n",
       "</tr>\n",
       "</table>\n",
       "<table class=\"simpletable\">\n",
       "<tr>\n",
       "  <th>Omnibus:</th>       <td> 0.204</td> <th>  Durbin-Watson:     </th> <td>   1.028</td>\n",
       "</tr>\n",
       "<tr>\n",
       "  <th>Prob(Omnibus):</th> <td> 0.903</td> <th>  Jarque-Bera (JB):  </th> <td>   0.072</td>\n",
       "</tr>\n",
       "<tr>\n",
       "  <th>Skew:</th>          <td> 0.027</td> <th>  Prob(JB):          </th> <td>   0.964</td>\n",
       "</tr>\n",
       "<tr>\n",
       "  <th>Kurtosis:</th>      <td> 3.060</td> <th>  Cond. No.          </th> <td>    595.</td>\n",
       "</tr>\n",
       "</table><br/><br/>Warnings:<br/>[1] Standard Errors assume that the covariance matrix of the errors is correctly specified."
      ],
      "text/plain": [
       "<class 'statsmodels.iolib.summary.Summary'>\n",
       "\"\"\"\n",
       "                                 OLS Regression Results                                \n",
       "=======================================================================================\n",
       "Dep. Variable:               log_area   R-squared (uncentered):                   0.618\n",
       "Model:                            OLS   Adj. R-squared (uncentered):              0.608\n",
       "Method:                 Least Squares   F-statistic:                              60.89\n",
       "Date:                Sat, 20 Jun 2020   Prob (F-statistic):                    1.80e-51\n",
       "Time:                        17:55:27   Log-Likelihood:                         -488.62\n",
       "No. Observations:                 270   AIC:                                      991.2\n",
       "Df Residuals:                     263   BIC:                                      1016.\n",
       "Df Model:                           7                                                  \n",
       "Covariance Type:            nonrobust                                                  \n",
       "============================================================================================\n",
       "                               coef    std err          t      P>|t|      [0.025      0.975]\n",
       "--------------------------------------------------------------------------------------------\n",
       "temp                         0.0332      0.010      3.238      0.001       0.013       0.053\n",
       "RH                           0.0018      0.005      0.373      0.710      -0.008       0.012\n",
       "wind                         0.0897      0.047      1.913      0.057      -0.003       0.182\n",
       "rain                        -0.0077      0.231     -0.034      0.973      -0.462       0.446\n",
       "weekend                      0.4380      0.198      2.216      0.028       0.049       0.827\n",
       "PCA_4indicators             -0.0004      0.000     -0.835      0.405      -0.001       0.000\n",
       "categorical_for_location     0.8650      0.184      4.692      0.000       0.502       1.228\n",
       "==============================================================================\n",
       "Omnibus:                        0.204   Durbin-Watson:                   1.028\n",
       "Prob(Omnibus):                  0.903   Jarque-Bera (JB):                0.072\n",
       "Skew:                           0.027   Prob(JB):                        0.964\n",
       "Kurtosis:                       3.060   Cond. No.                         595.\n",
       "==============================================================================\n",
       "\n",
       "Warnings:\n",
       "[1] Standard Errors assume that the covariance matrix of the errors is correctly specified.\n",
       "\"\"\""
      ]
     },
     "execution_count": 519,
     "metadata": {},
     "output_type": "execute_result"
    }
   ],
   "source": [
    "model.summary()"
   ]
  },
  {
   "cell_type": "markdown",
   "metadata": {},
   "source": [
    "Получилось че-то так себе"
   ]
  },
  {
   "cell_type": "code",
   "execution_count": null,
   "metadata": {},
   "outputs": [],
   "source": []
  }
 ],
 "metadata": {
  "kernelspec": {
   "display_name": "Python 3",
   "language": "python",
   "name": "python3"
  },
  "language_info": {
   "codemirror_mode": {
    "name": "ipython",
    "version": 3
   },
   "file_extension": ".py",
   "mimetype": "text/x-python",
   "name": "python",
   "nbconvert_exporter": "python",
   "pygments_lexer": "ipython3",
   "version": "3.7.6"
  }
 },
 "nbformat": 4,
 "nbformat_minor": 4
}
